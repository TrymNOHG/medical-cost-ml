{
 "cells": [
  {
   "cell_type": "markdown",
   "metadata": {},
   "source": [
    "# U.S. Medical Insurance Costs"
   ]
  },
  {
   "cell_type": "markdown",
   "metadata": {},
   "source": [
    "# Overview\n",
    "In this project, I will analyze the medical insurance data of over 50000 people. The question I want to answer is:..."
   ]
  },
  {
   "cell_type": "code",
   "execution_count": 1,
   "metadata": {},
   "outputs": [
    {
     "name": "stdout",
     "output_type": "stream",
     "text": [
      "{'age': '19', 'sex': 'female', 'bmi': '27.9', 'children': '0', 'smoker': 'yes', 'region': 'southwest', 'charges': '16884.924'}\n"
     ]
    }
   ],
   "source": [
    "import csv\n",
    "import json\n",
    "\n",
    "insurance_dict = {}\n",
    "with open(\"insurance.csv\", \"r\") as insurance_file:\n",
    "    insurance_csv = csv.DictReader(insurance_file)\n",
    "    index = 0\n",
    "    for person in insurance_csv:\n",
    "        insurance_dict[index] = person \n",
    "        index += 1\n",
    "\n",
    "# First person in the insurance dict:\n",
    "print(insurance_dict[0])"
   ]
  },
  {
   "cell_type": "code",
   "execution_count": 2,
   "metadata": {},
   "outputs": [],
   "source": [
    "from matplotlib import pyplot as plt\n",
    "import numpy as np"
   ]
  },
  {
   "cell_type": "code",
   "execution_count": 3,
   "metadata": {},
   "outputs": [],
   "source": [
    "def invalid_attribute_message(attribute:str):\n",
    "    \"\"\" This function provides an error message when an attribute is invalid\n",
    "    \"\"\"\n",
    "    print(str(attribute) + \" is not a valid attribute. Check for correct spelling.\")\n",
    "    print(\"The valid attributes are : \")\n",
    "    for key in insurance_dict[0].keys():\n",
    "            print(\"- \" + key)"
   ]
  },
  {
   "cell_type": "code",
   "execution_count": 4,
   "metadata": {},
   "outputs": [
    {
     "name": "stdout",
     "output_type": "stream",
     "text": [
      "Name is not a valid attribute. Check for correct spelling.\n",
      "The valid attributes are : \n",
      "- age\n",
      "- sex\n",
      "- bmi\n",
      "- children\n",
      "- smoker\n",
      "- region\n",
      "- charges\n"
     ]
    }
   ],
   "source": [
    "def get_list_of_attribute(attribute:str)-> list:\n",
    "    \"\"\" This function takes all the values associated with a given key (attribute) and appends them to a list.\n",
    "    \"\"\"\n",
    "    attr_list : list = []\n",
    "    try:\n",
    "        for value in insurance_dict.values():\n",
    "            attr_list.append(value[attribute.lower().strip()])\n",
    "        return attr_list\n",
    "    except:\n",
    "        invalid_attribute_message(attribute)\n",
    "# Example of invalid attribute\n",
    "get_list_of_attribute(\"Name\")"
   ]
  },
  {
   "cell_type": "code",
   "execution_count": 5,
   "metadata": {},
   "outputs": [
    {
     "name": "stdout",
     "output_type": "stream",
     "text": [
      "{'southwest': 325, 'southeast': 364, 'northwest': 325, 'northeast': 324}\n",
      "{'female': 662, 'male': 676}\n",
      "{'yes': 274, 'no': 1064}\n"
     ]
    }
   ],
   "source": [
    "def get_count_of_attribute(attribute:str)-> dict:\n",
    "    \"\"\" This function allows for the count of different attributes to be constructed as a dict.\n",
    "    \"\"\"\n",
    "    attribute_dict = {}\n",
    "    try:\n",
    "        for value in insurance_dict.values():\n",
    "            attribute_dict[value[attribute]] = attribute_dict.get(value[attribute], 0) + 1\n",
    "        return attribute_dict\n",
    "    except:\n",
    "        invalid_attribute_message(attribute)\n",
    "\n",
    "# Examples\n",
    "print(get_count_of_attribute(\"region\"))\n",
    "print(get_count_of_attribute(\"sex\"))\n",
    "print(get_count_of_attribute(\"smoker\"))"
   ]
  },
  {
   "cell_type": "code",
   "execution_count": 118,
   "metadata": {},
   "outputs": [
    {
     "name": "stdout",
     "output_type": "stream",
     "text": [
      "A 19 year old female smoker with a bmi of 27.9 and 0 children who lives in southwest pays $16884.924\n"
     ]
    }
   ],
   "source": [
    "def print_person(person):\n",
    "    \"\"\" This function provides a compact sentence of a person's data.\n",
    "    \"\"\"\n",
    "    smoker = \"smoker\" if person[\"smoker\"] == \"yes\" else \"non-smoker\"\n",
    "    print(\"A {age} year old {sex} {smoker} with a bmi of {bmi} and {children} children who lives in {region} pays ${charges}\".format(age=person[\"age\"], sex=person[\"sex\"], bmi=person[\"bmi\"], children=person[\"children\"], smoker=smoker, region=person[\"region\"], charges=person[\"charges\"]))\n",
    "\n",
    "print_person(insurance_dict[0])"
   ]
  },
  {
   "cell_type": "code",
   "execution_count": 82,
   "metadata": {},
   "outputs": [
    {
     "name": "stdout",
     "output_type": "stream",
     "text": [
      "[{'age': '19', 'sex': 'female', 'bmi': '28.6', 'children': '5', 'smoker': 'no', 'region': 'southwest', 'charges': '4687.797'}, {'age': '31', 'sex': 'male', 'bmi': '28.5', 'children': '5', 'smoker': 'no', 'region': 'northeast', 'charges': '6799.458'}, {'age': '20', 'sex': 'female', 'bmi': '37', 'children': '5', 'smoker': 'no', 'region': 'southwest', 'charges': '4830.63'}, {'age': '25', 'sex': 'male', 'bmi': '23.9', 'children': '5', 'smoker': 'no', 'region': 'southwest', 'charges': '5080.096'}, {'age': '45', 'sex': 'male', 'bmi': '24.31', 'children': '5', 'smoker': 'no', 'region': 'southeast', 'charges': '9788.8659'}, {'age': '52', 'sex': 'female', 'bmi': '46.75', 'children': '5', 'smoker': 'no', 'region': 'southeast', 'charges': '12592.5345'}, {'age': '49', 'sex': 'female', 'bmi': '31.9', 'children': '5', 'smoker': 'no', 'region': 'southwest', 'charges': '11552.904'}, {'age': '33', 'sex': 'male', 'bmi': '42.4', 'children': '5', 'smoker': 'no', 'region': 'southwest', 'charges': '6666.243'}, {'age': '33', 'sex': 'male', 'bmi': '33.44', 'children': '5', 'smoker': 'no', 'region': 'southeast', 'charges': '6653.7886'}, {'age': '46', 'sex': 'male', 'bmi': '25.8', 'children': '5', 'smoker': 'no', 'region': 'southwest', 'charges': '10096.97'}, {'age': '39', 'sex': 'female', 'bmi': '24.225', 'children': '5', 'smoker': 'no', 'region': 'northwest', 'charges': '8965.79575'}, {'age': '39', 'sex': 'female', 'bmi': '34.32', 'children': '5', 'smoker': 'no', 'region': 'southeast', 'charges': '8596.8278'}, {'age': '20', 'sex': 'male', 'bmi': '30.115', 'children': '5', 'smoker': 'no', 'region': 'northeast', 'charges': '4915.05985'}, {'age': '39', 'sex': 'female', 'bmi': '18.3', 'children': '5', 'smoker': 'yes', 'region': 'southwest', 'charges': '19023.26'}, {'age': '41', 'sex': 'male', 'bmi': '29.64', 'children': '5', 'smoker': 'no', 'region': 'northeast', 'charges': '9222.4026'}, {'age': '39', 'sex': 'female', 'bmi': '23.87', 'children': '5', 'smoker': 'no', 'region': 'southeast', 'charges': '8582.3023'}, {'age': '28', 'sex': 'male', 'bmi': '24.3', 'children': '5', 'smoker': 'no', 'region': 'southwest', 'charges': '5615.369'}, {'age': '43', 'sex': 'male', 'bmi': '25.52', 'children': '5', 'smoker': 'no', 'region': 'southeast', 'charges': '14478.33015'}]\n"
     ]
    }
   ],
   "source": [
    "def get_specific_attribute(attribute, specific_data):\n",
    "    \"\"\" This function gets a list of all the people who have a specific data under an attribute. \n",
    "        For example, all people who have 5 children\n",
    "    \"\"\"\n",
    "    specific_attr = []\n",
    "    try:\n",
    "        for person in insurance_dict.values():\n",
    "            if person[attribute] == specific_data:\n",
    "                specific_attr.append(person)\n",
    "    except:\n",
    "        print(invalid_attribute_message[attribute])\n",
    "    return specific_attr\n",
    "print(get_specific_attribute(\"children\", \"5\"))"
   ]
  },
  {
   "cell_type": "code",
   "execution_count": 125,
   "metadata": {},
   "outputs": [
    {
     "name": "stdout",
     "output_type": "stream",
     "text": [
      "A 54 year old female smoker with a bmi of 47.41 and 0 children who lives in southeast pays $63770.42801\n",
      "A 18 year old male non-smoker with a bmi of 53.13 and 0 children who lives in southeast pays $1163.4627\n",
      "The oldest person is 64.0 years old\n"
     ]
    }
   ],
   "source": [
    "def get_max_val(attribute):\n",
    "    \"\"\" This function attains a dict containing the people with the max value of a given attribute, as well as the\n",
    "        maximum value.\n",
    "    \"\"\"\n",
    "    max_value = 0\n",
    "    max_dict = []\n",
    "    try:\n",
    "        for insurance in insurance_dict.values():\n",
    "            max_value = float(insurance[attribute]) if max_value < float(insurance[attribute]) else max_value\n",
    "    except:\n",
    "        invalid_attribute_message(attribute)\n",
    "        return\n",
    "    \n",
    "    for insurance in insurance_dict.values():\n",
    "        if float(insurance[attribute]) == max_value:\n",
    "            max_dict.append(insurance)\n",
    "            \n",
    "    return max_dict, max_value\n",
    "\n",
    "max_dict, max_val = get_max_val(\"charges\")\n",
    "for person in max_dict:\n",
    "    print_person(person)\n",
    "    \n",
    "max_dict, max_val = get_max_val(\"bmi\")\n",
    "for person in max_dict:\n",
    "    print_person(person)\n",
    "\n",
    "max_dict, max_val = get_max_val(\"age\")\n",
    "print(\"The oldest person is \" + str(max_val) + \" years old\")"
   ]
  },
  {
   "cell_type": "code",
   "execution_count": 126,
   "metadata": {},
   "outputs": [
    {
     "name": "stdout",
     "output_type": "stream",
     "text": [
      "A 18 year old male non-smoker with a bmi of 23.21 and 0 children who lives in southeast pays $1121.8739\n",
      "A 18 year old male non-smoker with a bmi of 15.96 and 0 children who lives in northeast pays $1694.7964\n"
     ]
    }
   ],
   "source": [
    "def get_min_val(attribute):\n",
    "    \"\"\" This function attains a dict containing the people with the min value of a given attribute, as well as the\n",
    "        minimum value.\n",
    "    \"\"\"\n",
    "    min_value = float(\"inf\")\n",
    "    min_dict = []\n",
    "    try:\n",
    "        for insurance in insurance_dict.values():\n",
    "            min_value = float(insurance[attribute]) if min_value > float(insurance[attribute]) else min_value\n",
    "    except:\n",
    "        invalid_attribute_message(attribute)\n",
    "        return\n",
    "    \n",
    "    for insurance in insurance_dict.values():\n",
    "        if float(insurance[attribute]) == min_value:\n",
    "            min_dict.append(insurance)\n",
    "            \n",
    "    return min_dict, min_value\n",
    "\n",
    "min_dict, min_val = get_min_val(\"charges\")\n",
    "for person in min_dict:\n",
    "    print_person(person)\n",
    "    \n",
    "min_dict, min_val = get_min_val(\"bmi\")\n",
    "for person in min_dict:\n",
    "    print_person(person)"
   ]
  },
  {
   "cell_type": "markdown",
   "metadata": {},
   "source": [
    "# Understanding potential biases and weaknesses of the dataset\n",
    "When conducting analyses on a given dataset, it is essential to fully understand the scope of the data. Are there any factors that could **skew** the results?\n",
    "\n",
    "In order to tackle this issue, I will first get an intuitive understanding of the set through various figures and diagrams. Later on, I will examine the data using statistical techniques."
   ]
  },
  {
   "cell_type": "code",
   "execution_count": 68,
   "metadata": {},
   "outputs": [],
   "source": [
    "def attribute_piechart(attributes):\n",
    "    \"\"\" This function allows for efficient creation of pie charts for one or more attributes of the dataset.\n",
    "    \"\"\"\n",
    "    attributes = [attributes] if type(attributes) == str else attributes\n",
    "    categories_of_attributes = []\n",
    "    categories_data = []\n",
    "    try:\n",
    "        for attribute in attributes:\n",
    "                categories_of_attributes.append(get_count_of_attribute(attribute.lower()).keys())\n",
    "                categories_data.append(get_count_of_attribute(attribute.lower()).values())\n",
    "    except:\n",
    "        return\n",
    "    # Create plot\n",
    "    fig, axs = plt.subplots(1, len(attributes), figsize = (9, 3), sharey=True)\n",
    "    for i in range(len(attributes)):\n",
    "        ax = axs[i] if len(attributes) > 1 else axs\n",
    "        ax.pie(categories_data[i], labels = categories_of_attributes[i])\n",
    "        ax.set_title(\"Distribution of \" + str(attributes[i]) + \" data\")\n",
    "    # Show plot\n",
    "    plt.show()"
   ]
  },
  {
   "cell_type": "code",
   "execution_count": 69,
   "metadata": {},
   "outputs": [
    {
     "data": {
      "image/png": "[encoded data removed]",
      "text/plain": [
       "<Figure size 648x216 with 3 Axes>"
      ]
     },
     "metadata": {},
     "output_type": "display_data"
    }
   ],
   "source": [
    "attributes = [\"region\", \"sex\", \"smoker\"]\n",
    "attribute_piechart(attributes)"
   ]
  },
  {
   "cell_type": "code",
   "execution_count": 58,
   "metadata": {},
   "outputs": [],
   "source": [
    "# Could create a scale in order to categorize the different insurance costs\n",
    "insurance_scale = {0 : 0,\n",
    "                  1 : 1000,\n",
    "                  2 : 5000,\n",
    "                  3 : 10000,\n",
    "                  4 : 20000}\n",
    "# Linear regression\n",
    "# Here, I should check the R-squared, etc...\n",
    "# Possibility of decision trees to interpolate an insurance cost. Then, I could do a comparison to the real.\n",
    "# From there, I could perform multiple statistical tests in order to get an overview of the accuracy of such modelling."
   ]
  }
 ],
 "metadata": {
  "kernelspec": {
   "display_name": "Python 3",
   "language": "python",
   "name": "python3"
  },
  "language_info": {
   "codemirror_mode": {
    "name": "ipython",
    "version": 3
   },
   "file_extension": ".py",
   "mimetype": "text/x-python",
   "name": "python",
   "nbconvert_exporter": "python",
   "pygments_lexer": "ipython3",
   "version": "3.8.8"
  }
 },
 "nbformat": 4,
 "nbformat_minor": 4
}
