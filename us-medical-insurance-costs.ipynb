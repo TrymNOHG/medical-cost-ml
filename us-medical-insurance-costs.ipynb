{
 "cells": [
  {
   "cell_type": "markdown",
   "metadata": {},
   "source": [
    "# U.S. Medical Insurance Costs"
   ]
  },
  {
   "cell_type": "markdown",
   "metadata": {},
   "source": [
    "***\n",
    "## Overview\n",
    "\n",
    "In this project, I will analyze the medical insurance data of 1338 people. The question I want to answer is: <br>**Is there a linear correlation between age, sex, bmi, children, smoking and region and insurance costs for individuals?**\n",
    "\n",
    "Since this project will act as an introduction into statistical analysis in python for me, I will be using some more long-winded methods to further my understanding of the syntax. One such example is reading a csv file to a dictionary instead of into a DataFrame using pandas pd.read_csv.\n",
    "\n",
    "The dataset was taken from [Kaggle](https://www.kaggle.com/datasets/mirichoi0218/insurance).\n",
    "***\n",
    "\n",
    "### Table of contents\n",
    "1. [Setting Up Dataset](#Setting-Up-Dataset)\n",
    "2. [Supplementary Methods](#Supplementary-Methods)\n",
    "3. [Understanding potential biases and weaknesses of the dataset](#Understanding-potential-biases-and-weaknesses-of-the-dataset)\n",
    "4. [Filtering out Extreme Outliers](#Filtering-out-Extreme-Outliers)\n",
    "5. [Single Linear Regression](#Single-Linear-Regression)\n",
    "6. [Multiple Linear Regression](#Multiple-Linear-Regression)\n",
    "7. [Decision Tree](#Decision-Tree)\n",
    "8. [Results](#Results)\n",
    "9. [Conclusion](#Conclusion)\n",
    "***"
   ]
  },
  {
   "cell_type": "markdown",
   "metadata": {},
   "source": [
    "## Setting Up Dataset\n",
    "\n",
    "First, the data needs to be loaded from a csv file into a Python dictionary. This can be done using the package csv's DictReader method."
   ]
  },
  {
   "cell_type": "code",
   "execution_count": 1,
   "metadata": {},
   "outputs": [
    {
     "name": "stdout",
     "output_type": "stream",
     "text": [
      "{'age': '19', 'sex': 'female', 'bmi': '27.9', 'children': '0', 'smoker': 'yes', 'region': 'southwest', 'charges': '16884.924'}\n"
     ]
    }
   ],
   "source": [
    "import csv\n",
    "import json\n",
    "\n",
    "insurance_dict = {}\n",
    "with open(\"insurance.csv\", \"r\") as insurance_file:\n",
    "    insurance_csv = csv.DictReader(insurance_file)\n",
    "    index = 0\n",
    "    for person in insurance_csv:\n",
    "        insurance_dict[index] = person \n",
    "        index += 1\n",
    "\n",
    "# First person in the insurance dict:\n",
    "print(insurance_dict[0])"
   ]
  },
  {
   "cell_type": "markdown",
   "metadata": {},
   "source": [
    "***\n",
    "## Supplementary Methods\n",
    "\n",
    "As a lot of the supplementary methods involve analyzing the different attributes, it is extremely useful to have a function that prints a comprehensive error message when an attribute is invalid."
   ]
  },
  {
   "cell_type": "code",
   "execution_count": 2,
   "metadata": {},
   "outputs": [],
   "source": [
    "def invalid_attribute_message(attribute:str, dictionary=insurance_dict):\n",
    "    \"\"\" This function provides an error message when an attribute is invalid\n",
    "    \"\"\"\n",
    "    print(str(attribute) + \" is not a valid attribute. Check for correct spelling.\")\n",
    "    print(\"The valid attributes are : \")\n",
    "    for key in dictionary[0].keys():\n",
    "            print(\"- \" + key)"
   ]
  },
  {
   "cell_type": "markdown",
   "metadata": {},
   "source": [
    "It is useful to have a function which collects solely the values associated with a certain attribute!"
   ]
  },
  {
   "cell_type": "code",
   "execution_count": 3,
   "metadata": {},
   "outputs": [
    {
     "name": "stdout",
     "output_type": "stream",
     "text": [
      "Name is not a valid attribute. Check for correct spelling.\n",
      "The valid attributes are : \n",
      "- age\n",
      "- sex\n",
      "- bmi\n",
      "- children\n",
      "- smoker\n",
      "- region\n",
      "- charges\n"
     ]
    }
   ],
   "source": [
    "def get_list_of_attribute(attribute:str, dictionary=insurance_dict)-> list:\n",
    "    \"\"\" This function takes all the values associated with a given key (attribute) and appends them to a list.\n",
    "    \"\"\"\n",
    "    attr_list : list = []\n",
    "    try:\n",
    "        for value in dictionary.values():\n",
    "            attr_list.append(value[attribute.lower().strip()])\n",
    "        return attr_list\n",
    "    except:\n",
    "        invalid_attribute_message(attribute)\n",
    "# Example of invalid attribute\n",
    "get_list_of_attribute(\"Name\")"
   ]
  },
  {
   "cell_type": "markdown",
   "metadata": {},
   "source": [
    "Similarly, a function which counts the number of each unique value associated with a variable is helpful for further analysis. For instance, this function can be used to find how many people in the dataset are smokers opposed to non-smokers."
   ]
  },
  {
   "cell_type": "code",
   "execution_count": 4,
   "metadata": {},
   "outputs": [
    {
     "name": "stdout",
     "output_type": "stream",
     "text": [
      "{'southwest': 325, 'southeast': 364, 'northwest': 325, 'northeast': 324}\n",
      "{'female': 662, 'male': 676}\n",
      "{'yes': 274, 'no': 1064}\n",
      "{'0': 574, '1': 324, '3': 157, '2': 240, '5': 18, '4': 25}\n"
     ]
    }
   ],
   "source": [
    "def get_count_of_attribute(attribute:str, dictionary=insurance_dict)-> dict:\n",
    "    \"\"\" This function allows for the count of different attributes to be constructed as a dict.\n",
    "    \"\"\"\n",
    "    attribute_dict = {}\n",
    "    try:\n",
    "        for value in dictionary.values():\n",
    "            attribute_dict[value[attribute]] = attribute_dict.get(value[attribute], 0) + 1\n",
    "        return attribute_dict\n",
    "    except:\n",
    "        invalid_attribute_message(attribute)\n",
    "\n",
    "# Examples\n",
    "print(get_count_of_attribute(\"region\"))\n",
    "print(get_count_of_attribute(\"sex\"))\n",
    "print(get_count_of_attribute(\"smoker\"))\n",
    "print(get_count_of_attribute(\"children\"))"
   ]
  },
  {
   "cell_type": "markdown",
   "metadata": {},
   "source": [
    "The print_person function serves to present data in a more easily readable manner."
   ]
  },
  {
   "cell_type": "code",
   "execution_count": 5,
   "metadata": {},
   "outputs": [
    {
     "name": "stdout",
     "output_type": "stream",
     "text": [
      "A 19 year old female smoker with a bmi of 27.9 and 0 children who lives in southwest pays $16884.924\n"
     ]
    }
   ],
   "source": [
    "def print_person(person):\n",
    "    \"\"\" This function provides a compact sentence of a person's data.\n",
    "    \"\"\"\n",
    "    smoker = \"smoker\" if person[\"smoker\"] == \"yes\" else \"non-smoker\"\n",
    "    print(\"A {age} year old {sex} {smoker} with a bmi of {bmi} and {children} children who lives in {region} pays ${charges}\".format(age=person[\"age\"], sex=person[\"sex\"], bmi=person[\"bmi\"], children=person[\"children\"], smoker=smoker, region=person[\"region\"], charges=person[\"charges\"]))\n",
    "\n",
    "print_person(insurance_dict[0])"
   ]
  },
  {
   "cell_type": "markdown",
   "metadata": {},
   "source": [
    "Functions for further dissecting and grouping the data is vital when carrying out a thorough analysis. Therefore, this function allows for all the people who fall under a specific value of an attribute to be appended to a list. An example of this can be seen at the end, where all the people with `5 children` are saved."
   ]
  },
  {
   "cell_type": "code",
   "execution_count": 6,
   "metadata": {},
   "outputs": [
    {
     "name": "stdout",
     "output_type": "stream",
     "text": [
      "[{'age': '19', 'sex': 'female', 'bmi': '28.6', 'children': '5', 'smoker': 'no', 'region': 'southwest', 'charges': '4687.797'}, {'age': '31', 'sex': 'male', 'bmi': '28.5', 'children': '5', 'smoker': 'no', 'region': 'northeast', 'charges': '6799.458'}, {'age': '20', 'sex': 'female', 'bmi': '37', 'children': '5', 'smoker': 'no', 'region': 'southwest', 'charges': '4830.63'}, {'age': '25', 'sex': 'male', 'bmi': '23.9', 'children': '5', 'smoker': 'no', 'region': 'southwest', 'charges': '5080.096'}, {'age': '45', 'sex': 'male', 'bmi': '24.31', 'children': '5', 'smoker': 'no', 'region': 'southeast', 'charges': '9788.8659'}, {'age': '52', 'sex': 'female', 'bmi': '46.75', 'children': '5', 'smoker': 'no', 'region': 'southeast', 'charges': '12592.5345'}, {'age': '49', 'sex': 'female', 'bmi': '31.9', 'children': '5', 'smoker': 'no', 'region': 'southwest', 'charges': '11552.904'}, {'age': '33', 'sex': 'male', 'bmi': '42.4', 'children': '5', 'smoker': 'no', 'region': 'southwest', 'charges': '6666.243'}, {'age': '33', 'sex': 'male', 'bmi': '33.44', 'children': '5', 'smoker': 'no', 'region': 'southeast', 'charges': '6653.7886'}, {'age': '46', 'sex': 'male', 'bmi': '25.8', 'children': '5', 'smoker': 'no', 'region': 'southwest', 'charges': '10096.97'}, {'age': '39', 'sex': 'female', 'bmi': '24.225', 'children': '5', 'smoker': 'no', 'region': 'northwest', 'charges': '8965.79575'}, {'age': '39', 'sex': 'female', 'bmi': '34.32', 'children': '5', 'smoker': 'no', 'region': 'southeast', 'charges': '8596.8278'}, {'age': '20', 'sex': 'male', 'bmi': '30.115', 'children': '5', 'smoker': 'no', 'region': 'northeast', 'charges': '4915.05985'}, {'age': '39', 'sex': 'female', 'bmi': '18.3', 'children': '5', 'smoker': 'yes', 'region': 'southwest', 'charges': '19023.26'}, {'age': '41', 'sex': 'male', 'bmi': '29.64', 'children': '5', 'smoker': 'no', 'region': 'northeast', 'charges': '9222.4026'}, {'age': '39', 'sex': 'female', 'bmi': '23.87', 'children': '5', 'smoker': 'no', 'region': 'southeast', 'charges': '8582.3023'}, {'age': '28', 'sex': 'male', 'bmi': '24.3', 'children': '5', 'smoker': 'no', 'region': 'southwest', 'charges': '5615.369'}, {'age': '43', 'sex': 'male', 'bmi': '25.52', 'children': '5', 'smoker': 'no', 'region': 'southeast', 'charges': '14478.33015'}]\n"
     ]
    }
   ],
   "source": [
    "def get_specific_attribute(attribute, specific_data, dictionary=insurance_dict):\n",
    "    \"\"\" This function gets a list of all the people who have a specific data under an attribute. \n",
    "        For example, all people who have 5 children\n",
    "    \"\"\"\n",
    "    specific_attr = []\n",
    "    try:\n",
    "        for person in dictionary.values():\n",
    "            if person[attribute] == specific_data:\n",
    "                specific_attr.append(person)\n",
    "    except:\n",
    "        print(invalid_attribute_message[attribute])\n",
    "    return specific_attr\n",
    "print(get_specific_attribute(\"children\", \"5\"))"
   ]
  },
  {
   "cell_type": "markdown",
   "metadata": {},
   "source": [
    "It is also statistically non-trivial to attain the maximum and minimum values of the dataset."
   ]
  },
  {
   "cell_type": "code",
   "execution_count": 7,
   "metadata": {},
   "outputs": [
    {
     "name": "stdout",
     "output_type": "stream",
     "text": [
      "A 54 year old female smoker with a bmi of 47.41 and 0 children who lives in southeast pays $63770.42801\n",
      "A 18 year old male non-smoker with a bmi of 53.13 and 0 children who lives in southeast pays $1163.4627\n",
      "The oldest person is 64.0 years old\n"
     ]
    }
   ],
   "source": [
    "def get_max_val(attribute, dictionary=insurance_dict):\n",
    "    \"\"\" This function attains a dict containing the people with the max value of a given attribute, as well as the\n",
    "        maximum value.\n",
    "    \"\"\"\n",
    "    max_value = 0\n",
    "    max_dict = []\n",
    "    try:\n",
    "        for insurance in dictionary.values():\n",
    "            max_value = float(insurance[attribute]) if max_value < float(insurance[attribute]) else max_value\n",
    "    except:\n",
    "        invalid_attribute_message(attribute)\n",
    "        return\n",
    "    \n",
    "    for insurance in dictionary.values():\n",
    "        if float(insurance[attribute]) == max_value:\n",
    "            max_dict.append(insurance)\n",
    "            \n",
    "    return max_dict, max_value\n",
    "\n",
    "max_dict, max_val = get_max_val(\"charges\")\n",
    "for person in max_dict:\n",
    "    print_person(person)\n",
    "    \n",
    "max_dict, max_val = get_max_val(\"bmi\")\n",
    "for person in max_dict:\n",
    "    print_person(person)\n",
    "\n",
    "max_dict, max_val = get_max_val(\"age\")\n",
    "print(\"The oldest person is \" + str(max_val) + \" years old\")"
   ]
  },
  {
   "cell_type": "code",
   "execution_count": 8,
   "metadata": {},
   "outputs": [
    {
     "name": "stdout",
     "output_type": "stream",
     "text": [
      "A 18 year old male non-smoker with a bmi of 23.21 and 0 children who lives in southeast pays $1121.8739\n",
      "A 18 year old male non-smoker with a bmi of 15.96 and 0 children who lives in northeast pays $1694.7964\n"
     ]
    }
   ],
   "source": [
    "def get_min_val(attribute, dictionary=insurance_dict):\n",
    "    \"\"\" This function attains a dict containing the people with the min value of a given attribute, as well as the\n",
    "        minimum value.\n",
    "    \"\"\"\n",
    "    min_value = float(\"inf\")\n",
    "    min_dict = []\n",
    "    try:\n",
    "        for insurance in dictionary.values():\n",
    "            min_value = float(insurance[attribute]) if min_value > float(insurance[attribute]) else min_value\n",
    "    except:\n",
    "        invalid_attribute_message(attribute)\n",
    "        return\n",
    "    \n",
    "    for insurance in dictionary.values():\n",
    "        if float(insurance[attribute]) == min_value:\n",
    "            min_dict.append(insurance)\n",
    "            \n",
    "    return min_dict, min_value\n",
    "\n",
    "min_dict, min_val = get_min_val(\"charges\")\n",
    "for person in min_dict:\n",
    "    print_person(person)\n",
    "    \n",
    "min_dict, min_val = get_min_val(\"bmi\")\n",
    "for person in min_dict:\n",
    "    print_person(person)"
   ]
  },
  {
   "cell_type": "markdown",
   "metadata": {},
   "source": [
    "It is also helpful to be able to sort the dictionary based on a given attribute and to create the 4 quartiles based on an attribute."
   ]
  },
  {
   "cell_type": "code",
   "execution_count": 9,
   "metadata": {},
   "outputs": [],
   "source": [
    "def sort_dict_by_attr(attribute:str, dictionary=insurance_dict):\n",
    "    \"\"\" This function returns a dict sorted by the various values an attribute can have.\n",
    "    \"\"\"\n",
    "    sorted_dict = {}\n",
    "    for insurance in dictionary.values():\n",
    "        sorted_dict[insurance[attribute]] = sorted_dict.get(insurance[attribute], []) + [insurance]\n",
    "    return {key : sorted_dict[key] for key in sorted(sorted_dict)}\n",
    "\n",
    "\n",
    "def create_quartiles(attribute:str, dictionary=insurance_dict):\n",
    "    \"\"\" This function splits the dict into the 4 quartiles according to the values connected to the given attribute.\n",
    "    \"\"\"\n",
    "    quartile_list = [[] for i in range(4)]\n",
    "    current_entry = 1\n",
    "    num_entries = len(insurance_dict.values())\n",
    "    index = 0\n",
    "    for dicts in sort_dict_by_attr(attribute, dictionary).values():\n",
    "        for insurance in dicts:\n",
    "            if current_entry % (num_entries//4 + 1) == 0:\n",
    "                index += 1\n",
    "            quartile_list[index].append(insurance)\n",
    "            current_entry += 1\n",
    "    return quartile_list"
   ]
  },
  {
   "cell_type": "markdown",
   "metadata": {},
   "source": [
    "***\n",
    "## Understanding potential biases and weaknesses of the dataset\n",
    "When conducting analyses on a given dataset, it is essential to fully understand the scope of the data. Are there any factors that could **skew** the results?\n",
    "\n",
    "In order to tackle this issue, I will first get an intuitive understanding of the set through various figures and diagrams. Later on, I will examine the data using statistical techniques."
   ]
  },
  {
   "cell_type": "code",
   "execution_count": 10,
   "metadata": {},
   "outputs": [],
   "source": [
    "from matplotlib import pyplot as plt\n",
    "import numpy as np"
   ]
  },
  {
   "cell_type": "code",
   "execution_count": 11,
   "metadata": {},
   "outputs": [],
   "source": [
    "def attribute_piechart(attributes, dictionary=insurance_dict):\n",
    "    \"\"\" This function allows for efficient creation of pie charts for one or more attributes of the dataset.\n",
    "    \"\"\"\n",
    "    attributes = [attributes] if type(attributes) == str else attributes\n",
    "    categories_of_attributes = []\n",
    "    categories_data = []\n",
    "    try:\n",
    "        for attribute in attributes:\n",
    "                categories_of_attributes.append(get_count_of_attribute(attribute.lower(), dictionary).keys())\n",
    "                categories_data.append(get_count_of_attribute(attribute.lower(), dictionary).values())\n",
    "    except:\n",
    "        return\n",
    "    # Create plot\n",
    "    fig, axs = plt.subplots(1, len(attributes), figsize = (9, 3), sharey=True)\n",
    "    for i in range(len(attributes)):\n",
    "        ax = axs[i] if len(attributes) > 1 else axs\n",
    "        ax.pie(categories_data[i], labels = categories_of_attributes[i])\n",
    "        ax.set_title(\"Distribution of \" + str(attributes[i]) + \" data\")\n",
    "    # Show plot\n",
    "    plt.show()"
   ]
  },
  {
   "cell_type": "code",
   "execution_count": 12,
   "metadata": {},
   "outputs": [
    {
     "data": {
      "image/png": "[encoded data removed]",
      "text/plain": [
       "<Figure size 648x216 with 3 Axes>"
      ]
     },
     "metadata": {},
     "output_type": "display_data"
    }
   ],
   "source": [
    "attributes = [\"region\", \"sex\", \"smoker\"]\n",
    "attribute_piechart(attributes)"
   ]
  },
  {
   "cell_type": "markdown",
   "metadata": {},
   "source": [
    "As seen in the *pie charts*, there is approximately an even distribution between the data of the various regions and sexes. However, as the distribution of smoker data demonstrates, the data is skewed to include over 75% non-smokers. This uneven distribution may be more representative of the US population; however, it may also reduce our accuracy when looking at correlations between smokers and insurance charges."
   ]
  },
  {
   "cell_type": "code",
   "execution_count": 13,
   "metadata": {},
   "outputs": [
    {
     "data": {
      "image/png": "[encoded data removed]",
      "text/plain": [
       "<Figure size 432x288 with 1 Axes>"
      ]
     },
     "metadata": {
      "needs_background": "light"
     },
     "output_type": "display_data"
    },
    {
     "data": {
      "image/png": "[encoded data removed]",
      "text/plain": [
       "<Figure size 432x288 with 1 Axes>"
      ]
     },
     "metadata": {
      "needs_background": "light"
     },
     "output_type": "display_data"
    },
    {
     "data": {
      "image/png": "[encoded data removed]",
      "text/plain": [
       "<Figure size 432x288 with 1 Axes>"
      ]
     },
     "metadata": {
      "needs_background": "light"
     },
     "output_type": "display_data"
    },
    {
     "data": {
      "image/png": "[encoded data removed]",
      "text/plain": [
       "<Figure size 432x288 with 1 Axes>"
      ]
     },
     "metadata": {
      "needs_background": "light"
     },
     "output_type": "display_data"
    }
   ],
   "source": [
    "# Another option for creating boxplots is through seaborn's boxplot. Here, a datafram would have to be sent as the data.\n",
    "def create_boxplot(attributes, dictionary=insurance_dict):\n",
    "    \"\"\" This function allows for efficient creation of pie charts for one or more attributes of the dataset.\n",
    "    \"\"\"\n",
    "    attributes = [attributes] if type(attributes) == str else attributes\n",
    "    categories_data = [[] for i in range(len(attributes))] \n",
    "    for i in range(len(attributes)):\n",
    "        for value in get_list_of_attribute(attributes[i], dictionary):\n",
    "            categories_data[i].append(float(value))\n",
    "        \n",
    "    # Create plot\n",
    "    plt.boxplot(categories_data, vert=True, patch_artist=True, labels=attributes)\n",
    "    plt.title(\"Distribution of the \" + str(\", \".join(attributes)) + \" attribute\")\n",
    "    # Show plot\n",
    "    plt.show()\n",
    "\n",
    "attributes = [\"age\", \"bmi\", \"children\"]\n",
    "create_boxplot(attributes)\n",
    "for attribute in attributes:\n",
    "    create_boxplot(attribute)"
   ]
  },
  {
   "cell_type": "markdown",
   "metadata": {},
   "source": [
    "Through the box and whisker plots, the span/variation of numerical data becomes more apparent, as well as its distribution. \n",
    "\n",
    "The data gathered on age is between age 18 and 64 and has a seemingly uniform distribution. A uniform age distribution can be important in understanding a population, although not always representative. Some countries/regions have **constrictive population pyramids**, where there are a majority of elderly in comparison to younger people. However, an accurate representation of a population doesn't necessarily help the understanding of the different factors going into insurance pricing. Therefore, the researchers presumably decided to try and evenly gather data of different age groups.\n",
    "\n",
    "Similarly, the data gathered on bmi is spread relatively evenly. However, here a different problem occurs. The dataset has numerous outliers. These can be found by looking outside of the bounds:\n",
    "$$ Outlier \\not\\in [Q1 - 1.5 * IQR, Q3 + 1.5 * IQR] $$ <br> where `IQR` stands for interquartile range or the difference between Q3 and Q1. <br><br> In this project, a linear trend between the different attributes and insurance cost is to be investigated. The presence of outlier could significantly skew the results for non-extreme values. Therefore, an analysis of the data with the outliers and one where extreme outliers are filtered and removed will be performed.\n",
    "\n",
    "Finally, a boxplot was created to visualize the data on how many children each person has. Here, the plot shows that a majority (50%) has 0 or 1 children and 75% has 2 or less. The data again seems skewed to include more people with less children; however, this is most likely reflective of the population."
   ]
  },
  {
   "cell_type": "markdown",
   "metadata": {},
   "source": [
    "***\n",
    "## Filtering out Extreme Outliers\n",
    "As discussed earlier, in order to create more robust statistics, extreme outliers (over 2 * IQR outside of the 1st or 3rd quartile) will be trimmed out.\n",
    "\n",
    "$$ Extreme \\space outlier \\not\\in [Q1 - 2 * IQR, \\space \\space  Q3 + 2 * IQR] $$\n",
    "\n",
    "As opposed to all outliers, these extreme outliers exists over 2 times the interquartile range away from their quartiles. <br>\n",
    "Below, the numpy method quantile is used in order to determine the value of the quartiles. However, the method written in [Supplementary Methods](#Supplementary-Methods) called `create_quartiles` could also be used."
   ]
  },
  {
   "cell_type": "code",
   "execution_count": 14,
   "metadata": {},
   "outputs": [
    {
     "name": "stdout",
     "output_type": "stream",
     "text": [
      "[9.501249999999999, 51.48875]\n"
     ]
    }
   ],
   "source": [
    "bmi_values = []\n",
    "for value in get_list_of_attribute(\"bmi\"):\n",
    "    bmi_values.append(float(value))\n",
    "#1st Quartile \n",
    "q1 = np.quantile(bmi_values, 0.25) \n",
    "#3rd Quartile \n",
    "q3 = np.quantile(bmi_values, 0.75) \n",
    "\n",
    "IQR = q3 - q1\n",
    "\n",
    "extreme_outlier = [q1 - 2 * IQR, q3 + 2 * IQR]\n",
    "print(extreme_outlier)"
   ]
  },
  {
   "cell_type": "markdown",
   "metadata": {},
   "source": [
    "Now that the extreme_outlier intervals for the `bmi` attribute has been calculated. The data that falls outside the interval can be filtered out."
   ]
  },
  {
   "cell_type": "code",
   "execution_count": 15,
   "metadata": {},
   "outputs": [
    {
     "name": "stdout",
     "output_type": "stream",
     "text": [
      "2 entries were filtered out!\n"
     ]
    }
   ],
   "source": [
    "filtered_insurance_dict = {}\n",
    "for key in insurance_dict:\n",
    "    bmi_value = float(insurance_dict[key][\"bmi\"])\n",
    "    if extreme_outlier[0] <= bmi_value <= extreme_outlier[1]:\n",
    "        filtered_insurance_dict[key] = insurance_dict[key]\n",
    "print(\"{removed} entries were filtered out!\".format(removed = str(len(insurance_dict)-len(filtered_insurance_dict))))"
   ]
  },
  {
   "cell_type": "code",
   "execution_count": 20,
   "metadata": {},
   "outputs": [
    {
     "data": {
      "image/png": "[encoded data removed]",
      "text/plain": [
       "<Figure size 432x288 with 1 Axes>"
      ]
     },
     "metadata": {
      "needs_background": "light"
     },
     "output_type": "display_data"
    },
    {
     "data": {
      "image/png": "[encoded data removed]",
      "text/plain": [
       "<Figure size 432x288 with 1 Axes>"
      ]
     },
     "metadata": {
      "needs_background": "light"
     },
     "output_type": "display_data"
    }
   ],
   "source": [
    "attributes = [\"age\", \"bmi\", \"children\"]\n",
    "create_boxplot(attributes, filtered_insurance_dict)\n",
    "create_boxplot(\"bmi\", filtered_insurance_dict)\n"
   ]
  },
  {
   "cell_type": "markdown",
   "metadata": {},
   "source": [
    "The new, filtered insurance data has fewer outliers when looking at bmi, as well as maintained the robustness of the age and children attributes. Moving forward, both datasets (filtered and unfiltered) will be used in the investigation of trends."
   ]
  },
  {
   "cell_type": "markdown",
   "metadata": {},
   "source": [
    "## Single Linear Regression\n",
    "Although it seems intuitive that all the factors play some role in determining the insurance costs, it is important to be thorough when performing statistical analysis. Therefore, a simple linear regression will be performed and the impact of each attribute determined. Later on, a multiple linear regression will also be constructed in order to create a model which incorporates all the different factors.\n",
    "\n",
    "In this section, attributes will be investigated individually. Therefore, the linear model will take the following form:\n",
    "\n",
    "$$ y_i = \\beta_0 + \\beta_1 * x_i $$\n",
    "\n",
    "where `beta_0` is the y-intercept and `beta_1` is the slope of the line.\n",
    "\n",
    "\n",
    "Before diving completely into the regressions, it is more efficient to use DataFrames. Hence, the dictionaries need to be altered."
   ]
  },
  {
   "cell_type": "code",
   "execution_count": 52,
   "metadata": {},
   "outputs": [
    {
     "data": {
      "text/html": [
       "<div>\n",
       "<style scoped>\n",
       "    .dataframe tbody tr th:only-of-type {\n",
       "        vertical-align: middle;\n",
       "    }\n",
       "\n",
       "    .dataframe tbody tr th {\n",
       "        vertical-align: top;\n",
       "    }\n",
       "\n",
       "    .dataframe thead th {\n",
       "        text-align: right;\n",
       "    }\n",
       "</style>\n",
       "<table border=\"1\" class=\"dataframe\">\n",
       "  <thead>\n",
       "    <tr style=\"text-align: right;\">\n",
       "      <th></th>\n",
       "      <th>age</th>\n",
       "      <th>sex</th>\n",
       "      <th>bmi</th>\n",
       "      <th>children</th>\n",
       "      <th>smoker</th>\n",
       "      <th>region</th>\n",
       "      <th>charges</th>\n",
       "    </tr>\n",
       "  </thead>\n",
       "  <tbody>\n",
       "    <tr>\n",
       "      <th>0</th>\n",
       "      <td>19.0</td>\n",
       "      <td>female</td>\n",
       "      <td>27.900</td>\n",
       "      <td>0.0</td>\n",
       "      <td>1</td>\n",
       "      <td>southwest</td>\n",
       "      <td>16884.92400</td>\n",
       "    </tr>\n",
       "    <tr>\n",
       "      <th>1</th>\n",
       "      <td>18.0</td>\n",
       "      <td>male</td>\n",
       "      <td>33.770</td>\n",
       "      <td>1.0</td>\n",
       "      <td>0</td>\n",
       "      <td>southeast</td>\n",
       "      <td>1725.55230</td>\n",
       "    </tr>\n",
       "    <tr>\n",
       "      <th>2</th>\n",
       "      <td>28.0</td>\n",
       "      <td>male</td>\n",
       "      <td>33.000</td>\n",
       "      <td>3.0</td>\n",
       "      <td>0</td>\n",
       "      <td>southeast</td>\n",
       "      <td>4449.46200</td>\n",
       "    </tr>\n",
       "    <tr>\n",
       "      <th>3</th>\n",
       "      <td>33.0</td>\n",
       "      <td>male</td>\n",
       "      <td>22.705</td>\n",
       "      <td>0.0</td>\n",
       "      <td>0</td>\n",
       "      <td>northwest</td>\n",
       "      <td>21984.47061</td>\n",
       "    </tr>\n",
       "    <tr>\n",
       "      <th>4</th>\n",
       "      <td>32.0</td>\n",
       "      <td>male</td>\n",
       "      <td>28.880</td>\n",
       "      <td>0.0</td>\n",
       "      <td>0</td>\n",
       "      <td>northwest</td>\n",
       "      <td>3866.85520</td>\n",
       "    </tr>\n",
       "  </tbody>\n",
       "</table>\n",
       "</div>"
      ],
      "text/plain": [
       "    age     sex     bmi  children  smoker     region      charges\n",
       "0  19.0  female  27.900       0.0       1  southwest  16884.92400\n",
       "1  18.0    male  33.770       1.0       0  southeast   1725.55230\n",
       "2  28.0    male  33.000       3.0       0  southeast   4449.46200\n",
       "3  33.0    male  22.705       0.0       0  northwest  21984.47061\n",
       "4  32.0    male  28.880       0.0       0  northwest   3866.85520"
      ]
     },
     "execution_count": 52,
     "metadata": {},
     "output_type": "execute_result"
    }
   ],
   "source": [
    "import pandas as pd\n",
    "import seaborn as sns\n",
    "import statsmodels.api as sms \n",
    "import statsmodels.formula.api as smf \n",
    "\n",
    "smoker_status = {'no' : 0, 'yes' : 1}\n",
    "\n",
    "def prepare_dict_for_df(dictionary):\n",
    "    \"\"\" This function aids in turning a dictionary into a dataframe.\n",
    "    \"\"\"\n",
    "    temp_dict = {\"age\" : [],\n",
    "                \"sex\" : [],\n",
    "                \"bmi\" : [],\n",
    "                \"children\" : [],\n",
    "                \"smoker\" : [],\n",
    "                \"region\" : [],\n",
    "                \"charges\" : []}\n",
    "    for person in dictionary.values():\n",
    "        for attribute in person:\n",
    "            try:\n",
    "                temp_dict[attribute].append(float(person[attribute]))\n",
    "            except:\n",
    "                temp_dict[attribute].append(smoker_status.get(person[attribute], person[attribute]))\n",
    "    return temp_dict\n",
    "\n",
    "# Creating dataframe from dictionaries\n",
    "insurance_df = pd.DataFrame.from_dict(prepare_dict_for_df(insurance_dict))\n",
    "\n",
    "\n",
    "filtered_insurance_df = pd.DataFrame.from_dict(prepare_dict_for_df(filtered_insurance_dict))\n",
    "\n",
    "insurance_df.head(5)"
   ]
  },
  {
   "cell_type": "markdown",
   "metadata": {},
   "source": [
    "First, a linear regression of age is done."
   ]
  },
  {
   "cell_type": "code",
   "execution_count": 61,
   "metadata": {},
   "outputs": [
    {
     "data": {
      "image/png": "[encoded data removed]",
      "text/plain": [
       "<Figure size 432x288 with 2 Axes>"
      ]
     },
     "metadata": {},
     "output_type": "display_data"
    }
   ],
   "source": [
    "sns.set(style = 'whitegrid', font_scale = 1)\n",
    "# Linear regression of age vs. charge using the unfiltered insurance data\n",
    "plt.subplot(1, 2, 1)\n",
    "sns.regplot(x='age', y='charges', data=insurance_df) \n",
    "# plt.ylim(290,510) \n",
    "\n",
    "# Linear regression of age vs. charge using the filtered insurance data\n",
    "plt.subplot(1, 2, 2) \n",
    "sns.regplot(x='age', y='charges', color =\"g\", data=filtered_insurance_df) \n",
    "# plt.ylim(290,510) \n",
    "\n",
    "plt.tight_layout()\n",
    "plt.show()"
   ]
  },
  {
   "cell_type": "code",
   "execution_count": 62,
   "metadata": {},
   "outputs": [
    {
     "data": {
      "text/html": [
       "<table class=\"simpletable\">\n",
       "<caption>OLS Regression Results</caption>\n",
       "<tr>\n",
       "  <th>Dep. Variable:</th>         <td>charges</td>     <th>  R-squared:         </th> <td>   0.089</td> \n",
       "</tr>\n",
       "<tr>\n",
       "  <th>Model:</th>                   <td>OLS</td>       <th>  Adj. R-squared:    </th> <td>   0.089</td> \n",
       "</tr>\n",
       "<tr>\n",
       "  <th>Method:</th>             <td>Least Squares</td>  <th>  F-statistic:       </th> <td>   131.2</td> \n",
       "</tr>\n",
       "<tr>\n",
       "  <th>Date:</th>             <td>Sun, 08 Jan 2023</td> <th>  Prob (F-statistic):</th> <td>4.89e-29</td> \n",
       "</tr>\n",
       "<tr>\n",
       "  <th>Time:</th>                 <td>12:02:51</td>     <th>  Log-Likelihood:    </th> <td> -14415.</td> \n",
       "</tr>\n",
       "<tr>\n",
       "  <th>No. Observations:</th>      <td>  1338</td>      <th>  AIC:               </th> <td>2.883e+04</td>\n",
       "</tr>\n",
       "<tr>\n",
       "  <th>Df Residuals:</th>          <td>  1336</td>      <th>  BIC:               </th> <td>2.884e+04</td>\n",
       "</tr>\n",
       "<tr>\n",
       "  <th>Df Model:</th>              <td>     1</td>      <th>                     </th>     <td> </td>    \n",
       "</tr>\n",
       "<tr>\n",
       "  <th>Covariance Type:</th>      <td>nonrobust</td>    <th>                     </th>     <td> </td>    \n",
       "</tr>\n",
       "</table>\n",
       "<table class=\"simpletable\">\n",
       "<tr>\n",
       "      <td></td>         <th>coef</th>     <th>std err</th>      <th>t</th>      <th>P>|t|</th>  <th>[0.025</th>    <th>0.975]</th>  \n",
       "</tr>\n",
       "<tr>\n",
       "  <th>Intercept</th> <td> 3165.8850</td> <td>  937.149</td> <td>    3.378</td> <td> 0.001</td> <td> 1327.440</td> <td> 5004.330</td>\n",
       "</tr>\n",
       "<tr>\n",
       "  <th>age</th>       <td>  257.7226</td> <td>   22.502</td> <td>   11.453</td> <td> 0.000</td> <td>  213.579</td> <td>  301.866</td>\n",
       "</tr>\n",
       "</table>\n",
       "<table class=\"simpletable\">\n",
       "<tr>\n",
       "  <th>Omnibus:</th>       <td>399.600</td> <th>  Durbin-Watson:     </th> <td>   2.033</td> \n",
       "</tr>\n",
       "<tr>\n",
       "  <th>Prob(Omnibus):</th> <td> 0.000</td>  <th>  Jarque-Bera (JB):  </th> <td> 864.239</td> \n",
       "</tr>\n",
       "<tr>\n",
       "  <th>Skew:</th>          <td> 1.733</td>  <th>  Prob(JB):          </th> <td>2.15e-188</td>\n",
       "</tr>\n",
       "<tr>\n",
       "  <th>Kurtosis:</th>      <td> 4.869</td>  <th>  Cond. No.          </th> <td>    124.</td> \n",
       "</tr>\n",
       "</table><br/><br/>Notes:<br/>[1] Standard Errors assume that the covariance matrix of the errors is correctly specified."
      ],
      "text/plain": [
       "<class 'statsmodels.iolib.summary.Summary'>\n",
       "\"\"\"\n",
       "                            OLS Regression Results                            \n",
       "==============================================================================\n",
       "Dep. Variable:                charges   R-squared:                       0.089\n",
       "Model:                            OLS   Adj. R-squared:                  0.089\n",
       "Method:                 Least Squares   F-statistic:                     131.2\n",
       "Date:                Sun, 08 Jan 2023   Prob (F-statistic):           4.89e-29\n",
       "Time:                        12:02:51   Log-Likelihood:                -14415.\n",
       "No. Observations:                1338   AIC:                         2.883e+04\n",
       "Df Residuals:                    1336   BIC:                         2.884e+04\n",
       "Df Model:                           1                                         \n",
       "Covariance Type:            nonrobust                                         \n",
       "==============================================================================\n",
       "                 coef    std err          t      P>|t|      [0.025      0.975]\n",
       "------------------------------------------------------------------------------\n",
       "Intercept   3165.8850    937.149      3.378      0.001    1327.440    5004.330\n",
       "age          257.7226     22.502     11.453      0.000     213.579     301.866\n",
       "==============================================================================\n",
       "Omnibus:                      399.600   Durbin-Watson:                   2.033\n",
       "Prob(Omnibus):                  0.000   Jarque-Bera (JB):              864.239\n",
       "Skew:                           1.733   Prob(JB):                    2.15e-188\n",
       "Kurtosis:                       4.869   Cond. No.                         124.\n",
       "==============================================================================\n",
       "\n",
       "Notes:\n",
       "[1] Standard Errors assume that the covariance matrix of the errors is correctly specified.\n",
       "\"\"\""
      ]
     },
     "execution_count": 62,
     "metadata": {},
     "output_type": "execute_result"
    }
   ],
   "source": [
    "insurance_model = smf.ols('charges~age', data=insurance_df).fit()\n",
    "insurance_model.summary()"
   ]
  },
  {
   "cell_type": "code",
   "execution_count": 63,
   "metadata": {},
   "outputs": [
    {
     "data": {
      "text/html": [
       "<table class=\"simpletable\">\n",
       "<caption>OLS Regression Results</caption>\n",
       "<tr>\n",
       "  <th>Dep. Variable:</th>         <td>charges</td>     <th>  R-squared:         </th> <td>   0.091</td> \n",
       "</tr>\n",
       "<tr>\n",
       "  <th>Model:</th>                   <td>OLS</td>       <th>  Adj. R-squared:    </th> <td>   0.090</td> \n",
       "</tr>\n",
       "<tr>\n",
       "  <th>Method:</th>             <td>Least Squares</td>  <th>  F-statistic:       </th> <td>   133.4</td> \n",
       "</tr>\n",
       "<tr>\n",
       "  <th>Date:</th>             <td>Sun, 08 Jan 2023</td> <th>  Prob (F-statistic):</th> <td>1.75e-29</td> \n",
       "</tr>\n",
       "<tr>\n",
       "  <th>Time:</th>                 <td>12:02:53</td>     <th>  Log-Likelihood:    </th> <td> -14389.</td> \n",
       "</tr>\n",
       "<tr>\n",
       "  <th>No. Observations:</th>      <td>  1336</td>      <th>  AIC:               </th> <td>2.878e+04</td>\n",
       "</tr>\n",
       "<tr>\n",
       "  <th>Df Residuals:</th>          <td>  1334</td>      <th>  BIC:               </th> <td>2.879e+04</td>\n",
       "</tr>\n",
       "<tr>\n",
       "  <th>Df Model:</th>              <td>     1</td>      <th>                     </th>     <td> </td>    \n",
       "</tr>\n",
       "<tr>\n",
       "  <th>Covariance Type:</th>      <td>nonrobust</td>    <th>                     </th>     <td> </td>    \n",
       "</tr>\n",
       "</table>\n",
       "<table class=\"simpletable\">\n",
       "<tr>\n",
       "      <td></td>         <th>coef</th>     <th>std err</th>      <th>t</th>      <th>P>|t|</th>  <th>[0.025</th>    <th>0.975]</th>  \n",
       "</tr>\n",
       "<tr>\n",
       "  <th>Intercept</th> <td> 3073.5408</td> <td>  936.247</td> <td>    3.283</td> <td> 0.001</td> <td> 1236.864</td> <td> 4910.217</td>\n",
       "</tr>\n",
       "<tr>\n",
       "  <th>age</th>       <td>  259.5225</td> <td>   22.468</td> <td>   11.551</td> <td> 0.000</td> <td>  215.446</td> <td>  303.599</td>\n",
       "</tr>\n",
       "</table>\n",
       "<table class=\"simpletable\">\n",
       "<tr>\n",
       "  <th>Omnibus:</th>       <td>399.716</td> <th>  Durbin-Watson:     </th> <td>   2.028</td> \n",
       "</tr>\n",
       "<tr>\n",
       "  <th>Prob(Omnibus):</th> <td> 0.000</td>  <th>  Jarque-Bera (JB):  </th> <td> 866.005</td> \n",
       "</tr>\n",
       "<tr>\n",
       "  <th>Skew:</th>          <td> 1.734</td>  <th>  Prob(JB):          </th> <td>8.90e-189</td>\n",
       "</tr>\n",
       "<tr>\n",
       "  <th>Kurtosis:</th>      <td> 4.878</td>  <th>  Cond. No.          </th> <td>    124.</td> \n",
       "</tr>\n",
       "</table><br/><br/>Notes:<br/>[1] Standard Errors assume that the covariance matrix of the errors is correctly specified."
      ],
      "text/plain": [
       "<class 'statsmodels.iolib.summary.Summary'>\n",
       "\"\"\"\n",
       "                            OLS Regression Results                            \n",
       "==============================================================================\n",
       "Dep. Variable:                charges   R-squared:                       0.091\n",
       "Model:                            OLS   Adj. R-squared:                  0.090\n",
       "Method:                 Least Squares   F-statistic:                     133.4\n",
       "Date:                Sun, 08 Jan 2023   Prob (F-statistic):           1.75e-29\n",
       "Time:                        12:02:53   Log-Likelihood:                -14389.\n",
       "No. Observations:                1336   AIC:                         2.878e+04\n",
       "Df Residuals:                    1334   BIC:                         2.879e+04\n",
       "Df Model:                           1                                         \n",
       "Covariance Type:            nonrobust                                         \n",
       "==============================================================================\n",
       "                 coef    std err          t      P>|t|      [0.025      0.975]\n",
       "------------------------------------------------------------------------------\n",
       "Intercept   3073.5408    936.247      3.283      0.001    1236.864    4910.217\n",
       "age          259.5225     22.468     11.551      0.000     215.446     303.599\n",
       "==============================================================================\n",
       "Omnibus:                      399.716   Durbin-Watson:                   2.028\n",
       "Prob(Omnibus):                  0.000   Jarque-Bera (JB):              866.005\n",
       "Skew:                           1.734   Prob(JB):                    8.90e-189\n",
       "Kurtosis:                       4.878   Cond. No.                         124.\n",
       "==============================================================================\n",
       "\n",
       "Notes:\n",
       "[1] Standard Errors assume that the covariance matrix of the errors is correctly specified.\n",
       "\"\"\""
      ]
     },
     "execution_count": 63,
     "metadata": {},
     "output_type": "execute_result"
    }
   ],
   "source": [
    "filtered_insurance_model = smf.ols('charges~age', data=filtered_insurance_df).fit()\n",
    "filtered_insurance_model.summary()"
   ]
  },
  {
   "cell_type": "markdown",
   "metadata": {},
   "source": [
    "From the linear regression, as well as the data surrounding the model, it becomes apparent that age is a contributing but minor factor in the overall determinance of the cost of insurance. In the summary of the regression model, the unfiltered data had an `R-squared` of 0.089 and the filtered data had an `R-squared` of 0.091. \n",
    "\n",
    "The R-squared variable is known as the coefficient of determination. It shows how much the dependent variable, `age`, determines the values of the independent variable, `charges`. The closer to 1 r-squared is, the more the dependent variable determines y. Therefore, as stated earlier, age is **a** factor; however, it does not strongly determine y.\n",
    "\n",
    "The **estimated regression equation**, found through the `coef` variable in the table, is:\n",
    "\n",
    "$$ \\hat{y}_i = 3073.5408 + 259.5225 * x_i $$\n",
    "\n",
    "Now, a regression on bmi will be done."
   ]
  },
  {
   "cell_type": "code",
   "execution_count": 64,
   "metadata": {},
   "outputs": [
    {
     "data": {
      "image/png": "[encoded data removed]",
      "text/plain": [
       "<Figure size 432x288 with 2 Axes>"
      ]
     },
     "metadata": {},
     "output_type": "display_data"
    }
   ],
   "source": [
    "sns.set(style = 'whitegrid', font_scale = 1)\n",
    "# Linear regression of age vs. charge using the unfiltered insurance data\n",
    "plt.subplot(1, 2, 1)\n",
    "sns.regplot(x='bmi', y='charges', data=insurance_df) \n",
    "# plt.ylim(290,510) \n",
    "\n",
    "# Linear regression of age vs. charge using the filtered insurance data\n",
    "plt.subplot(1, 2, 2) \n",
    "sns.regplot(x='bmi', y='charges', color =\"g\", data=filtered_insurance_df) \n",
    "# plt.ylim(290,510) \n",
    "\n",
    "plt.tight_layout()\n",
    "plt.show()"
   ]
  },
  {
   "cell_type": "markdown",
   "metadata": {},
   "source": [
    "There doesn't visually appear to be a strong correlation between bmi and the charges, other than a slight positive correlation. However, to make sure, the r-squared of the data will be calculated."
   ]
  },
  {
   "cell_type": "code",
   "execution_count": 82,
   "metadata": {},
   "outputs": [
    {
     "data": {
      "text/html": [
       "<table class=\"simpletable\">\n",
       "<caption>OLS Regression Results</caption>\n",
       "<tr>\n",
       "  <th>Dep. Variable:</th>         <td>charges</td>     <th>  R-squared:         </th> <td>   0.039</td> \n",
       "</tr>\n",
       "<tr>\n",
       "  <th>Model:</th>                   <td>OLS</td>       <th>  Adj. R-squared:    </th> <td>   0.039</td> \n",
       "</tr>\n",
       "<tr>\n",
       "  <th>Method:</th>             <td>Least Squares</td>  <th>  F-statistic:       </th> <td>   54.71</td> \n",
       "</tr>\n",
       "<tr>\n",
       "  <th>Date:</th>             <td>Wed, 11 Jan 2023</td> <th>  Prob (F-statistic):</th> <td>2.46e-13</td> \n",
       "</tr>\n",
       "<tr>\n",
       "  <th>Time:</th>                 <td>10:00:12</td>     <th>  Log-Likelihood:    </th> <td> -14451.</td> \n",
       "</tr>\n",
       "<tr>\n",
       "  <th>No. Observations:</th>      <td>  1338</td>      <th>  AIC:               </th> <td>2.891e+04</td>\n",
       "</tr>\n",
       "<tr>\n",
       "  <th>Df Residuals:</th>          <td>  1336</td>      <th>  BIC:               </th> <td>2.892e+04</td>\n",
       "</tr>\n",
       "<tr>\n",
       "  <th>Df Model:</th>              <td>     1</td>      <th>                     </th>     <td> </td>    \n",
       "</tr>\n",
       "<tr>\n",
       "  <th>Covariance Type:</th>      <td>nonrobust</td>    <th>                     </th>     <td> </td>    \n",
       "</tr>\n",
       "</table>\n",
       "<table class=\"simpletable\">\n",
       "<tr>\n",
       "      <td></td>         <th>coef</th>     <th>std err</th>      <th>t</th>      <th>P>|t|</th>  <th>[0.025</th>    <th>0.975]</th>  \n",
       "</tr>\n",
       "<tr>\n",
       "  <th>Intercept</th> <td> 1192.9372</td> <td> 1664.802</td> <td>    0.717</td> <td> 0.474</td> <td>-2072.974</td> <td> 4458.849</td>\n",
       "</tr>\n",
       "<tr>\n",
       "  <th>bmi</th>       <td>  393.8730</td> <td>   53.251</td> <td>    7.397</td> <td> 0.000</td> <td>  289.409</td> <td>  498.337</td>\n",
       "</tr>\n",
       "</table>\n",
       "<table class=\"simpletable\">\n",
       "<tr>\n",
       "  <th>Omnibus:</th>       <td>261.030</td> <th>  Durbin-Watson:     </th> <td>   1.983</td>\n",
       "</tr>\n",
       "<tr>\n",
       "  <th>Prob(Omnibus):</th> <td> 0.000</td>  <th>  Jarque-Bera (JB):  </th> <td> 431.091</td>\n",
       "</tr>\n",
       "<tr>\n",
       "  <th>Skew:</th>          <td> 1.297</td>  <th>  Prob(JB):          </th> <td>2.45e-94</td>\n",
       "</tr>\n",
       "<tr>\n",
       "  <th>Kurtosis:</th>      <td> 4.004</td>  <th>  Cond. No.          </th> <td>    160.</td>\n",
       "</tr>\n",
       "</table><br/><br/>Notes:<br/>[1] Standard Errors assume that the covariance matrix of the errors is correctly specified."
      ],
      "text/plain": [
       "<class 'statsmodels.iolib.summary.Summary'>\n",
       "\"\"\"\n",
       "                            OLS Regression Results                            \n",
       "==============================================================================\n",
       "Dep. Variable:                charges   R-squared:                       0.039\n",
       "Model:                            OLS   Adj. R-squared:                  0.039\n",
       "Method:                 Least Squares   F-statistic:                     54.71\n",
       "Date:                Wed, 11 Jan 2023   Prob (F-statistic):           2.46e-13\n",
       "Time:                        10:00:12   Log-Likelihood:                -14451.\n",
       "No. Observations:                1338   AIC:                         2.891e+04\n",
       "Df Residuals:                    1336   BIC:                         2.892e+04\n",
       "Df Model:                           1                                         \n",
       "Covariance Type:            nonrobust                                         \n",
       "==============================================================================\n",
       "                 coef    std err          t      P>|t|      [0.025      0.975]\n",
       "------------------------------------------------------------------------------\n",
       "Intercept   1192.9372   1664.802      0.717      0.474   -2072.974    4458.849\n",
       "bmi          393.8730     53.251      7.397      0.000     289.409     498.337\n",
       "==============================================================================\n",
       "Omnibus:                      261.030   Durbin-Watson:                   1.983\n",
       "Prob(Omnibus):                  0.000   Jarque-Bera (JB):              431.091\n",
       "Skew:                           1.297   Prob(JB):                     2.45e-94\n",
       "Kurtosis:                       4.004   Cond. No.                         160.\n",
       "==============================================================================\n",
       "\n",
       "Notes:\n",
       "[1] Standard Errors assume that the covariance matrix of the errors is correctly specified.\n",
       "\"\"\""
      ]
     },
     "execution_count": 82,
     "metadata": {},
     "output_type": "execute_result"
    }
   ],
   "source": [
    "insurance_model = smf.ols('charges~bmi', data=insurance_df).fit()\n",
    "insurance_model.summary()"
   ]
  },
  {
   "cell_type": "code",
   "execution_count": 74,
   "metadata": {},
   "outputs": [
    {
     "data": {
      "text/html": [
       "<table class=\"simpletable\">\n",
       "<caption>OLS Regression Results</caption>\n",
       "<tr>\n",
       "  <th>Dep. Variable:</th>         <td>charges</td>     <th>  R-squared:         </th> <td>   0.039</td> \n",
       "</tr>\n",
       "<tr>\n",
       "  <th>Model:</th>                   <td>OLS</td>       <th>  Adj. R-squared:    </th> <td>   0.038</td> \n",
       "</tr>\n",
       "<tr>\n",
       "  <th>Method:</th>             <td>Least Squares</td>  <th>  F-statistic:       </th> <td>   53.68</td> \n",
       "</tr>\n",
       "<tr>\n",
       "  <th>Date:</th>             <td>Wed, 11 Jan 2023</td> <th>  Prob (F-statistic):</th> <td>4.08e-13</td> \n",
       "</tr>\n",
       "<tr>\n",
       "  <th>Time:</th>                 <td>09:42:08</td>     <th>  Log-Likelihood:    </th> <td> -14427.</td> \n",
       "</tr>\n",
       "<tr>\n",
       "  <th>No. Observations:</th>      <td>  1336</td>      <th>  AIC:               </th> <td>2.886e+04</td>\n",
       "</tr>\n",
       "<tr>\n",
       "  <th>Df Residuals:</th>          <td>  1334</td>      <th>  BIC:               </th> <td>2.887e+04</td>\n",
       "</tr>\n",
       "<tr>\n",
       "  <th>Df Model:</th>              <td>     1</td>      <th>                     </th>     <td> </td>    \n",
       "</tr>\n",
       "<tr>\n",
       "  <th>Covariance Type:</th>      <td>nonrobust</td>    <th>                     </th>     <td> </td>    \n",
       "</tr>\n",
       "</table>\n",
       "<table class=\"simpletable\">\n",
       "<tr>\n",
       "      <td></td>         <th>coef</th>     <th>std err</th>      <th>t</th>      <th>P>|t|</th>  <th>[0.025</th>    <th>0.975]</th>  \n",
       "</tr>\n",
       "<tr>\n",
       "  <th>Intercept</th> <td> 1207.1256</td> <td> 1676.244</td> <td>    0.720</td> <td> 0.472</td> <td>-2081.236</td> <td> 4495.487</td>\n",
       "</tr>\n",
       "<tr>\n",
       "  <th>bmi</th>       <td>  393.3697</td> <td>   53.691</td> <td>    7.326</td> <td> 0.000</td> <td>  288.041</td> <td>  498.699</td>\n",
       "</tr>\n",
       "</table>\n",
       "<table class=\"simpletable\">\n",
       "<tr>\n",
       "  <th>Omnibus:</th>       <td>263.459</td> <th>  Durbin-Watson:     </th> <td>   1.982</td>\n",
       "</tr>\n",
       "<tr>\n",
       "  <th>Prob(Omnibus):</th> <td> 0.000</td>  <th>  Jarque-Bera (JB):  </th> <td> 437.521</td>\n",
       "</tr>\n",
       "<tr>\n",
       "  <th>Skew:</th>          <td> 1.305</td>  <th>  Prob(JB):          </th> <td>9.85e-96</td>\n",
       "</tr>\n",
       "<tr>\n",
       "  <th>Kurtosis:</th>      <td> 4.023</td>  <th>  Cond. No.          </th> <td>    162.</td>\n",
       "</tr>\n",
       "</table><br/><br/>Notes:<br/>[1] Standard Errors assume that the covariance matrix of the errors is correctly specified."
      ],
      "text/plain": [
       "<class 'statsmodels.iolib.summary.Summary'>\n",
       "\"\"\"\n",
       "                            OLS Regression Results                            \n",
       "==============================================================================\n",
       "Dep. Variable:                charges   R-squared:                       0.039\n",
       "Model:                            OLS   Adj. R-squared:                  0.038\n",
       "Method:                 Least Squares   F-statistic:                     53.68\n",
       "Date:                Wed, 11 Jan 2023   Prob (F-statistic):           4.08e-13\n",
       "Time:                        09:42:08   Log-Likelihood:                -14427.\n",
       "No. Observations:                1336   AIC:                         2.886e+04\n",
       "Df Residuals:                    1334   BIC:                         2.887e+04\n",
       "Df Model:                           1                                         \n",
       "Covariance Type:            nonrobust                                         \n",
       "==============================================================================\n",
       "                 coef    std err          t      P>|t|      [0.025      0.975]\n",
       "------------------------------------------------------------------------------\n",
       "Intercept   1207.1256   1676.244      0.720      0.472   -2081.236    4495.487\n",
       "bmi          393.3697     53.691      7.326      0.000     288.041     498.699\n",
       "==============================================================================\n",
       "Omnibus:                      263.459   Durbin-Watson:                   1.982\n",
       "Prob(Omnibus):                  0.000   Jarque-Bera (JB):              437.521\n",
       "Skew:                           1.305   Prob(JB):                     9.85e-96\n",
       "Kurtosis:                       4.023   Cond. No.                         162.\n",
       "==============================================================================\n",
       "\n",
       "Notes:\n",
       "[1] Standard Errors assume that the covariance matrix of the errors is correctly specified.\n",
       "\"\"\""
      ]
     },
     "execution_count": 74,
     "metadata": {},
     "output_type": "execute_result"
    }
   ],
   "source": [
    "filtered_insurance_model = smf.ols('charges~bmi', data=filtered_insurance_df).fit()\n",
    "filtered_insurance_model.summary()"
   ]
  },
  {
   "cell_type": "markdown",
   "metadata": {},
   "source": [
    "Contra to expectations, bmi has a lower level of determination than age on charges. Both the filtered and unfiltered data had an r-squared of 0.039. These numbers indicate that there is another factor with more impact on insurance cost."
   ]
  },
  {
   "cell_type": "markdown",
   "metadata": {},
   "source": [
    "### Confidence of Model\n",
    "\n",
    "Even though the low r-squared is an indication of a poor model, a further statistical analysis is necessary to rule it out. Models are never completely accurate, hence being a model of the real phenomenon. However, through analyzing the confidence intervals, the extent to which the model predicts correctly can be determined."
   ]
  },
  {
   "cell_type": "code",
   "execution_count": null,
   "metadata": {},
   "outputs": [],
   "source": []
  },
  {
   "cell_type": "code",
   "execution_count": null,
   "metadata": {},
   "outputs": [],
   "source": [
    "# Look at smoking and try and find a way to analyze 0 or 1 data."
   ]
  },
  {
   "cell_type": "markdown",
   "metadata": {},
   "source": [
    "## Multiple Linear Regression\n",
    "\n",
    "A multiple linear regression allows for a linear model to be created through weighting different variables, hence multiple. Therefore, the **estimared regression equation** becomes: <br>\n",
    "\n",
    "$$ y_i = \\beta_0 + \\beta_1 * x_1 + \\beta_2 * x_2 + ... + \\beta_n * x_n + e $$\n",
    "\n",
    "Where where `beta_0` is the y-intercept, `e` is the standard error, and `beta_(1-n)` creates the slope of the line."
   ]
  },
  {
   "cell_type": "code",
   "execution_count": 2,
   "metadata": {},
   "outputs": [
    {
     "ename": "NameError",
     "evalue": "name 'insurance_df' is not defined",
     "output_type": "error",
     "traceback": [
      "\u001b[0;31m---------------------------------------------------------------------------\u001b[0m",
      "\u001b[0;31mNameError\u001b[0m                                 Traceback (most recent call last)",
      "\u001b[0;32m<ipython-input-2-77fd20312f9e>\u001b[0m in \u001b[0;36m<module>\u001b[0;34m\u001b[0m\n\u001b[0;32m----> 1\u001b[0;31m \u001b[0mprint\u001b[0m\u001b[0;34m(\u001b[0m\u001b[0minsurance_df\u001b[0m\u001b[0;34m.\u001b[0m\u001b[0mhead\u001b[0m\u001b[0;34m(\u001b[0m\u001b[0;34m)\u001b[0m\u001b[0;34m)\u001b[0m\u001b[0;34m\u001b[0m\u001b[0;34m\u001b[0m\u001b[0m\n\u001b[0m\u001b[1;32m      2\u001b[0m \u001b[0;31m#predictor_data = pd.DataFrame(np.c_[insurance_df[]])\u001b[0m\u001b[0;34m\u001b[0m\u001b[0;34m\u001b[0m\u001b[0;34m\u001b[0m\u001b[0m\n",
      "\u001b[0;31mNameError\u001b[0m: name 'insurance_df' is not defined"
     ]
    }
   ],
   "source": [
    "print(insurance_df.head())\n",
    "#predictor_data = pd.DataFrame(np.c_[insurance_df[]])"
   ]
  },
  {
   "cell_type": "code",
   "execution_count": 17,
   "metadata": {},
   "outputs": [],
   "source": [
    "\n",
    "\n",
    "# Linear regression\n",
    "# Here, I should check the R-squared, etc...\n",
    "# Possibility of decision trees to interpolate an insurance cost. Then, I could do a comparison to the real.\n",
    "# From there, I could perform multiple statistical tests in order to get an overview of the accuracy of such modelling."
   ]
  },
  {
   "cell_type": "markdown",
   "metadata": {},
   "source": [
    "## Decision Tree"
   ]
  },
  {
   "cell_type": "markdown",
   "metadata": {},
   "source": [
    "## Results"
   ]
  },
  {
   "cell_type": "markdown",
   "metadata": {},
   "source": [
    "## Conclusion"
   ]
  },
  {
   "cell_type": "markdown",
   "metadata": {},
   "source": [
    "## Further Works"
   ]
  },
  {
   "cell_type": "markdown",
   "metadata": {},
   "source": [
    "## Reflection\n",
    "\n",
    "One thing I learned through doing this project is that it is very beneficial to be working with dataframes. A lot of well-known and efficient libraries for data analysis use the data type DataFrame instead of the built-in dictionaries. Therefore, when reading from the csv at the start, the data could've been made into a DataFrame immediately."
   ]
  },
  {
   "cell_type": "code",
   "execution_count": null,
   "metadata": {},
   "outputs": [],
   "source": []
  }
 ],
 "metadata": {
  "kernelspec": {
   "display_name": "Python 3",
   "language": "python",
   "name": "python3"
  },
  "language_info": {
   "codemirror_mode": {
    "name": "ipython",
    "version": 3
   },
   "file_extension": ".py",
   "mimetype": "text/x-python",
   "name": "python",
   "nbconvert_exporter": "python",
   "pygments_lexer": "ipython3",
   "version": "3.8.8"
  }
 },
 "nbformat": 4,
 "nbformat_minor": 4
}
