{
 "cells": [
  {
   "cell_type": "markdown",
   "metadata": {},
   "source": [
    "# U.S. Medical Insurance Costs"
   ]
  },
  {
   "cell_type": "markdown",
   "metadata": {},
   "source": [
    "***\n",
    "## Overview\n",
    "\n",
    "In this project, I will analyze the medical insurance data of 1338 people. The question I want to answer is: <br>**Is there a linear correlation between age, sex, bmi, children, smoking and region and insurance costs for individuals?**\n",
    "\n",
    "Since this project will act as an introduction into statistical analysis in python for me, I will be using some more long-winded methods to further my understanding of the syntax. One such example is reading a csv file to a dictionary instead of into a DataFrame using pandas pd.read_csv.\n",
    "***\n",
    "\n",
    "## Table of contents\n",
    "1. [Setting Up Dataset](#Setting-Up-Dataset)\n",
    "2. [Supplementary Methods](#Supplementary-Methods)\n",
    "3. [Understanding potential biases and weaknesses of the dataset](#Understanding-potential-biases-and-weaknesses-of-the-dataset)\n",
    "4. [Filtering out Extreme Outliers](#Filtering-out-Extreme-Outliers)\n",
    "5. [Multiple Linear Regression](#Multiple-Linear-Regression)\n",
    "***"
   ]
  },
  {
   "cell_type": "markdown",
   "metadata": {},
   "source": [
    "## Setting Up Dataset\n",
    "\n",
    "First, the data needs to be loaded from a csv file into a Python dictionary. This can be done using the package csv's DictReader method."
   ]
  },
  {
   "cell_type": "code",
   "execution_count": 1,
   "metadata": {},
   "outputs": [
    {
     "name": "stdout",
     "output_type": "stream",
     "text": [
      "{'age': '19', 'sex': 'female', 'bmi': '27.9', 'children': '0', 'smoker': 'yes', 'region': 'southwest', 'charges': '16884.924'}\n"
     ]
    }
   ],
   "source": [
    "import csv\n",
    "import json\n",
    "\n",
    "insurance_dict = {}\n",
    "with open(\"insurance.csv\", \"r\") as insurance_file:\n",
    "    insurance_csv = csv.DictReader(insurance_file)\n",
    "    index = 0\n",
    "    for person in insurance_csv:\n",
    "        insurance_dict[index] = person \n",
    "        index += 1\n",
    "\n",
    "# First person in the insurance dict:\n",
    "print(insurance_dict[0])"
   ]
  },
  {
   "cell_type": "markdown",
   "metadata": {},
   "source": [
    "***\n",
    "## Supplementary Methods\n",
    "\n",
    "As a lot of the supplementary methods involve analyzing the different attributes, it is extremely useful to have a function that prints a comprehensive error message when an attribute is invalid."
   ]
  },
  {
   "cell_type": "code",
   "execution_count": 2,
   "metadata": {},
   "outputs": [],
   "source": [
    "def invalid_attribute_message(attribute:str):\n",
    "    \"\"\" This function provides an error message when an attribute is invalid\n",
    "    \"\"\"\n",
    "    print(str(attribute) + \" is not a valid attribute. Check for correct spelling.\")\n",
    "    print(\"The valid attributes are : \")\n",
    "    for key in insurance_dict[0].keys():\n",
    "            print(\"- \" + key)"
   ]
  },
  {
   "cell_type": "markdown",
   "metadata": {},
   "source": [
    "It is useful to have a function which collects solely the values associated with a certain attribute!"
   ]
  },
  {
   "cell_type": "code",
   "execution_count": 3,
   "metadata": {},
   "outputs": [
    {
     "name": "stdout",
     "output_type": "stream",
     "text": [
      "Name is not a valid attribute. Check for correct spelling.\n",
      "The valid attributes are : \n",
      "- age\n",
      "- sex\n",
      "- bmi\n",
      "- children\n",
      "- smoker\n",
      "- region\n",
      "- charges\n"
     ]
    }
   ],
   "source": [
    "def get_list_of_attribute(attribute:str)-> list:\n",
    "    \"\"\" This function takes all the values associated with a given key (attribute) and appends them to a list.\n",
    "    \"\"\"\n",
    "    attr_list : list = []\n",
    "    try:\n",
    "        for value in insurance_dict.values():\n",
    "            attr_list.append(value[attribute.lower().strip()])\n",
    "        return attr_list\n",
    "    except:\n",
    "        invalid_attribute_message(attribute)\n",
    "# Example of invalid attribute\n",
    "get_list_of_attribute(\"Name\")"
   ]
  },
  {
   "cell_type": "markdown",
   "metadata": {},
   "source": [
    "Similarly, a function which counts the number of each unique value associated with a variable is helpful for further analysis. For instance, this function can be used to find how many people in the dataset are smokers opposed to non-smokers."
   ]
  },
  {
   "cell_type": "code",
   "execution_count": 39,
   "metadata": {},
   "outputs": [
    {
     "name": "stdout",
     "output_type": "stream",
     "text": [
      "{'southwest': 325, 'southeast': 364, 'northwest': 325, 'northeast': 324}\n",
      "{'female': 662, 'male': 676}\n",
      "{'yes': 274, 'no': 1064}\n",
      "{'0': 574, '1': 324, '3': 157, '2': 240, '5': 18, '4': 25}\n"
     ]
    }
   ],
   "source": [
    "def get_count_of_attribute(attribute:str)-> dict:\n",
    "    \"\"\" This function allows for the count of different attributes to be constructed as a dict.\n",
    "    \"\"\"\n",
    "    attribute_dict = {}\n",
    "    try:\n",
    "        for value in insurance_dict.values():\n",
    "            attribute_dict[value[attribute]] = attribute_dict.get(value[attribute], 0) + 1\n",
    "        return attribute_dict\n",
    "    except:\n",
    "        invalid_attribute_message(attribute)\n",
    "\n",
    "# Examples\n",
    "print(get_count_of_attribute(\"region\"))\n",
    "print(get_count_of_attribute(\"sex\"))\n",
    "print(get_count_of_attribute(\"smoker\"))\n",
    "print(get_count_of_attribute(\"children\"))"
   ]
  },
  {
   "cell_type": "markdown",
   "metadata": {},
   "source": [
    "The print_person function serves to present data in a more easily readable manner."
   ]
  },
  {
   "cell_type": "code",
   "execution_count": 5,
   "metadata": {},
   "outputs": [
    {
     "name": "stdout",
     "output_type": "stream",
     "text": [
      "A 19 year old female smoker with a bmi of 27.9 and 0 children who lives in southwest pays $16884.924\n"
     ]
    }
   ],
   "source": [
    "def print_person(person):\n",
    "    \"\"\" This function provides a compact sentence of a person's data.\n",
    "    \"\"\"\n",
    "    smoker = \"smoker\" if person[\"smoker\"] == \"yes\" else \"non-smoker\"\n",
    "    print(\"A {age} year old {sex} {smoker} with a bmi of {bmi} and {children} children who lives in {region} pays ${charges}\".format(age=person[\"age\"], sex=person[\"sex\"], bmi=person[\"bmi\"], children=person[\"children\"], smoker=smoker, region=person[\"region\"], charges=person[\"charges\"]))\n",
    "\n",
    "print_person(insurance_dict[0])"
   ]
  },
  {
   "cell_type": "markdown",
   "metadata": {},
   "source": [
    "Functions for further dissecting and grouping the data is vital when carrying out a thorough analysis. Therefore, this function allows for all the people who fall under a specific value of an attribute to be appended to a list. An example of this can be seen at the end, where all the people with `5 children` are saved."
   ]
  },
  {
   "cell_type": "code",
   "execution_count": 6,
   "metadata": {},
   "outputs": [
    {
     "name": "stdout",
     "output_type": "stream",
     "text": [
      "[{'age': '19', 'sex': 'female', 'bmi': '28.6', 'children': '5', 'smoker': 'no', 'region': 'southwest', 'charges': '4687.797'}, {'age': '31', 'sex': 'male', 'bmi': '28.5', 'children': '5', 'smoker': 'no', 'region': 'northeast', 'charges': '6799.458'}, {'age': '20', 'sex': 'female', 'bmi': '37', 'children': '5', 'smoker': 'no', 'region': 'southwest', 'charges': '4830.63'}, {'age': '25', 'sex': 'male', 'bmi': '23.9', 'children': '5', 'smoker': 'no', 'region': 'southwest', 'charges': '5080.096'}, {'age': '45', 'sex': 'male', 'bmi': '24.31', 'children': '5', 'smoker': 'no', 'region': 'southeast', 'charges': '9788.8659'}, {'age': '52', 'sex': 'female', 'bmi': '46.75', 'children': '5', 'smoker': 'no', 'region': 'southeast', 'charges': '12592.5345'}, {'age': '49', 'sex': 'female', 'bmi': '31.9', 'children': '5', 'smoker': 'no', 'region': 'southwest', 'charges': '11552.904'}, {'age': '33', 'sex': 'male', 'bmi': '42.4', 'children': '5', 'smoker': 'no', 'region': 'southwest', 'charges': '6666.243'}, {'age': '33', 'sex': 'male', 'bmi': '33.44', 'children': '5', 'smoker': 'no', 'region': 'southeast', 'charges': '6653.7886'}, {'age': '46', 'sex': 'male', 'bmi': '25.8', 'children': '5', 'smoker': 'no', 'region': 'southwest', 'charges': '10096.97'}, {'age': '39', 'sex': 'female', 'bmi': '24.225', 'children': '5', 'smoker': 'no', 'region': 'northwest', 'charges': '8965.79575'}, {'age': '39', 'sex': 'female', 'bmi': '34.32', 'children': '5', 'smoker': 'no', 'region': 'southeast', 'charges': '8596.8278'}, {'age': '20', 'sex': 'male', 'bmi': '30.115', 'children': '5', 'smoker': 'no', 'region': 'northeast', 'charges': '4915.05985'}, {'age': '39', 'sex': 'female', 'bmi': '18.3', 'children': '5', 'smoker': 'yes', 'region': 'southwest', 'charges': '19023.26'}, {'age': '41', 'sex': 'male', 'bmi': '29.64', 'children': '5', 'smoker': 'no', 'region': 'northeast', 'charges': '9222.4026'}, {'age': '39', 'sex': 'female', 'bmi': '23.87', 'children': '5', 'smoker': 'no', 'region': 'southeast', 'charges': '8582.3023'}, {'age': '28', 'sex': 'male', 'bmi': '24.3', 'children': '5', 'smoker': 'no', 'region': 'southwest', 'charges': '5615.369'}, {'age': '43', 'sex': 'male', 'bmi': '25.52', 'children': '5', 'smoker': 'no', 'region': 'southeast', 'charges': '14478.33015'}]\n"
     ]
    }
   ],
   "source": [
    "def get_specific_attribute(attribute, specific_data):\n",
    "    \"\"\" This function gets a list of all the people who have a specific data under an attribute. \n",
    "        For example, all people who have 5 children\n",
    "    \"\"\"\n",
    "    specific_attr = []\n",
    "    try:\n",
    "        for person in insurance_dict.values():\n",
    "            if person[attribute] == specific_data:\n",
    "                specific_attr.append(person)\n",
    "    except:\n",
    "        print(invalid_attribute_message[attribute])\n",
    "    return specific_attr\n",
    "print(get_specific_attribute(\"children\", \"5\"))"
   ]
  },
  {
   "cell_type": "markdown",
   "metadata": {},
   "source": [
    "It is also statistically non-trivial to attain the maximum and minimum values of the dataset."
   ]
  },
  {
   "cell_type": "code",
   "execution_count": 7,
   "metadata": {},
   "outputs": [
    {
     "name": "stdout",
     "output_type": "stream",
     "text": [
      "A 54 year old female smoker with a bmi of 47.41 and 0 children who lives in southeast pays $63770.42801\n",
      "A 18 year old male non-smoker with a bmi of 53.13 and 0 children who lives in southeast pays $1163.4627\n",
      "The oldest person is 64.0 years old\n"
     ]
    }
   ],
   "source": [
    "def get_max_val(attribute):\n",
    "    \"\"\" This function attains a dict containing the people with the max value of a given attribute, as well as the\n",
    "        maximum value.\n",
    "    \"\"\"\n",
    "    max_value = 0\n",
    "    max_dict = []\n",
    "    try:\n",
    "        for insurance in insurance_dict.values():\n",
    "            max_value = float(insurance[attribute]) if max_value < float(insurance[attribute]) else max_value\n",
    "    except:\n",
    "        invalid_attribute_message(attribute)\n",
    "        return\n",
    "    \n",
    "    for insurance in insurance_dict.values():\n",
    "        if float(insurance[attribute]) == max_value:\n",
    "            max_dict.append(insurance)\n",
    "            \n",
    "    return max_dict, max_value\n",
    "\n",
    "max_dict, max_val = get_max_val(\"charges\")\n",
    "for person in max_dict:\n",
    "    print_person(person)\n",
    "    \n",
    "max_dict, max_val = get_max_val(\"bmi\")\n",
    "for person in max_dict:\n",
    "    print_person(person)\n",
    "\n",
    "max_dict, max_val = get_max_val(\"age\")\n",
    "print(\"The oldest person is \" + str(max_val) + \" years old\")"
   ]
  },
  {
   "cell_type": "code",
   "execution_count": 8,
   "metadata": {},
   "outputs": [
    {
     "name": "stdout",
     "output_type": "stream",
     "text": [
      "A 18 year old male non-smoker with a bmi of 23.21 and 0 children who lives in southeast pays $1121.8739\n",
      "A 18 year old male non-smoker with a bmi of 15.96 and 0 children who lives in northeast pays $1694.7964\n"
     ]
    }
   ],
   "source": [
    "def get_min_val(attribute):\n",
    "    \"\"\" This function attains a dict containing the people with the min value of a given attribute, as well as the\n",
    "        minimum value.\n",
    "    \"\"\"\n",
    "    min_value = float(\"inf\")\n",
    "    min_dict = []\n",
    "    try:\n",
    "        for insurance in insurance_dict.values():\n",
    "            min_value = float(insurance[attribute]) if min_value > float(insurance[attribute]) else min_value\n",
    "    except:\n",
    "        invalid_attribute_message(attribute)\n",
    "        return\n",
    "    \n",
    "    for insurance in insurance_dict.values():\n",
    "        if float(insurance[attribute]) == min_value:\n",
    "            min_dict.append(insurance)\n",
    "            \n",
    "    return min_dict, min_value\n",
    "\n",
    "min_dict, min_val = get_min_val(\"charges\")\n",
    "for person in min_dict:\n",
    "    print_person(person)\n",
    "    \n",
    "min_dict, min_val = get_min_val(\"bmi\")\n",
    "for person in min_dict:\n",
    "    print_person(person)"
   ]
  },
  {
   "cell_type": "markdown",
   "metadata": {},
   "source": [
    "It is also helpful to be able to sort the dictionary based on a given attribute and to create the 4 quartiles based on an attribute."
   ]
  },
  {
   "cell_type": "code",
   "execution_count": 46,
   "metadata": {},
   "outputs": [],
   "source": [
    "def sort_dict_by_attr(attribute:str):\n",
    "    \"\"\" This function returns a dict sorted by the various values an attribute can have.\n",
    "    \"\"\"\n",
    "    sorted_dict = {}\n",
    "    for insurance in insurance_dict.values():\n",
    "        sorted_dict[insurance[attribute]] = sorted_dict.get(insurance[attribute], []) + [insurance]\n",
    "    return {key : sorted_dict[key] for key in sorted(sorted_dict)}\n",
    "\n",
    "\n",
    "def create_quartiles(attribute:str):\n",
    "    \"\"\" This function splits the dict into the 4 quartiles according to the values connected to the given attribute.\n",
    "    \"\"\"\n",
    "    quartile_list = [[] for i in range(4)]\n",
    "    current_entry = 1\n",
    "    num_entries = len(insurance_dict.values())\n",
    "    index = 0\n",
    "    for dicts in sort_dict_by_attr(attribute).values():\n",
    "        for insurance in dicts:\n",
    "            if current_entry % (num_entries//4 + 1) == 0:\n",
    "                index += 1\n",
    "            quartile_list[index].append(insurance)\n",
    "            current_entry += 1\n",
    "    return quartile_list"
   ]
  },
  {
   "cell_type": "markdown",
   "metadata": {},
   "source": [
    "***\n",
    "## Understanding potential biases and weaknesses of the dataset\n",
    "When conducting analyses on a given dataset, it is essential to fully understand the scope of the data. Are there any factors that could **skew** the results?\n",
    "\n",
    "In order to tackle this issue, I will first get an intuitive understanding of the set through various figures and diagrams. Later on, I will examine the data using statistical techniques."
   ]
  },
  {
   "cell_type": "code",
   "execution_count": 10,
   "metadata": {},
   "outputs": [],
   "source": [
    "from matplotlib import pyplot as plt\n",
    "import numpy as np"
   ]
  },
  {
   "cell_type": "code",
   "execution_count": 11,
   "metadata": {},
   "outputs": [],
   "source": [
    "def attribute_piechart(attributes):\n",
    "    \"\"\" This function allows for efficient creation of pie charts for one or more attributes of the dataset.\n",
    "    \"\"\"\n",
    "    attributes = [attributes] if type(attributes) == str else attributes\n",
    "    categories_of_attributes = []\n",
    "    categories_data = []\n",
    "    try:\n",
    "        for attribute in attributes:\n",
    "                categories_of_attributes.append(get_count_of_attribute(attribute.lower()).keys())\n",
    "                categories_data.append(get_count_of_attribute(attribute.lower()).values())\n",
    "    except:\n",
    "        return\n",
    "    # Create plot\n",
    "    fig, axs = plt.subplots(1, len(attributes), figsize = (9, 3), sharey=True)\n",
    "    for i in range(len(attributes)):\n",
    "        ax = axs[i] if len(attributes) > 1 else axs\n",
    "        ax.pie(categories_data[i], labels = categories_of_attributes[i])\n",
    "        ax.set_title(\"Distribution of \" + str(attributes[i]) + \" data\")\n",
    "    # Show plot\n",
    "    plt.show()"
   ]
  },
  {
   "cell_type": "code",
   "execution_count": 12,
   "metadata": {},
   "outputs": [
    {
     "data": {
      "image/png": "[encoded data removed]",
      "text/plain": [
       "<Figure size 648x216 with 3 Axes>"
      ]
     },
     "metadata": {},
     "output_type": "display_data"
    }
   ],
   "source": [
    "attributes = [\"region\", \"sex\", \"smoker\"]\n",
    "attribute_piechart(attributes)"
   ]
  },
  {
   "cell_type": "markdown",
   "metadata": {},
   "source": [
    "As seen in the *pie charts*, there is approximately an even distribution between the data of the various regions and sexes. However, as the distribution of smoker data demonstrates, the data is skewed to include over 75% non-smokers. This uneven distribution may be more representative of the US population; however, it may also reduce our accuracy when looking at correlations between smokers and insurance charges."
   ]
  },
  {
   "cell_type": "code",
   "execution_count": 38,
   "metadata": {},
   "outputs": [
    {
     "data": {
      "image/png": "[encoded data removed]",
      "text/plain": [
       "<Figure size 432x288 with 1 Axes>"
      ]
     },
     "metadata": {
      "needs_background": "light"
     },
     "output_type": "display_data"
    },
    {
     "data": {
      "image/png": "[encoded data removed]",
      "text/plain": [
       "<Figure size 432x288 with 1 Axes>"
      ]
     },
     "metadata": {
      "needs_background": "light"
     },
     "output_type": "display_data"
    },
    {
     "data": {
      "image/png": "[encoded data removed]",
      "text/plain": [
       "<Figure size 432x288 with 1 Axes>"
      ]
     },
     "metadata": {
      "needs_background": "light"
     },
     "output_type": "display_data"
    },
    {
     "data": {
      "image/png": "[encoded data removed]",
      "text/plain": [
       "<Figure size 432x288 with 1 Axes>"
      ]
     },
     "metadata": {
      "needs_background": "light"
     },
     "output_type": "display_data"
    }
   ],
   "source": [
    "# Another option for creating boxplots is through seaborn's boxplot. Here, a datafram would have to be sent as the data.\n",
    "def create_boxplot(attributes):\n",
    "    \"\"\" This function allows for efficient creation of pie charts for one or more attributes of the dataset.\n",
    "    \"\"\"\n",
    "    attributes = [attributes] if type(attributes) == str else attributes\n",
    "    categories_data = [[] for i in range(len(attributes))] \n",
    "    for i in range(len(attributes)):\n",
    "        for value in get_list_of_attribute(attributes[i]):\n",
    "            categories_data[i].append(float(value))\n",
    "        \n",
    "    # Create plot\n",
    "    plt.boxplot(categories_data, vert=True, patch_artist=True, labels=attributes)\n",
    "    plt.title(\"Distribution of the \" + str(\", \".join(attributes)) + \" attribute\")\n",
    "    # Show plot\n",
    "    plt.show()\n",
    "\n",
    "attributes = [\"age\", \"bmi\", \"children\"]\n",
    "create_boxplot(attributes)\n",
    "for attribute in attributes:\n",
    "    create_boxplot(attribute)"
   ]
  },
  {
   "cell_type": "markdown",
   "metadata": {},
   "source": [
    "Through the box and whisker plots, the span/variation of numerical data becomes more apparent, as well as its distribution. \n",
    "\n",
    "The data gathered on age is between age 18 and 64 and has a seemingly uniform distribution. A uniform age distribution can be important in understanding a population, although not always representative. Some countries/regions have **constrictive population pyramids**, where there are a majority of elderly in comparison to younger people. However, an accurate representation of a population doesn't necessarily help the understanding of the different factors going into insurance pricing. Therefore, the researchers presumably decided to try and evenly gather data of different age groups.\n",
    "\n",
    "Similarly, the data gathered on bmi is spread relatively evenly. However, here a different problem occurs. The dataset has numerous outliers. These can be found by looking outside of the bounds:\n",
    "$$ Outlier \\not\\in [Q1 - 1.5 * IQR, Q3 + 1.5 * IQR] $$ <br> where `IQR` stands for interquartile range or the difference between Q3 and Q1. <br><br> In this project, a linear trend between the different attributes and insurance cost is to be investigated. The presence of outlier could significantly skew the results for non-extreme values. Therefore, an analysis of the data with the outliers and one where extreme outliers are filtered and removed will be performed.\n",
    "\n",
    "Finally, a boxplot was created to visualize the data on how many children each person has. Here, the plot shows that a majority (50%) has 0 or 1 children and 75% has 2 or less. The data again seems skewed to include more people with less children; however, this is most likely reflective of the population."
   ]
  },
  {
   "cell_type": "markdown",
   "metadata": {},
   "source": [
    "***\n",
    "## Filtering out Extreme Outliers\n",
    "As discussed earlier, in order to create more robust statistics, extreme outliers (over 2 * IQR outside of the 1st or 3rd quartile) will be trimmed out.\n",
    "\n",
    "$$ Extreme \\space outlier \\not\\in [Q1 - 2 * IQR, \\space \\space  Q3 + 2 * IQR] $$\n",
    "\n",
    "As opposed to all outliers, these extreme outliers exists over 2 times the interquartile range away from their quartiles. <br>\n",
    "Below, the numpy method quantile is used in order to determine the value of the quartiles. However, the method written in [Supplementary Methods](#Supplementary-Methods) called `create_quartiles` could also be used."
   ]
  },
  {
   "cell_type": "code",
   "execution_count": 59,
   "metadata": {},
   "outputs": [
    {
     "name": "stdout",
     "output_type": "stream",
     "text": [
      "[9.501249999999999, 51.48875]\n"
     ]
    }
   ],
   "source": [
    "bmi_values = []\n",
    "for value in get_list_of_attribute(\"bmi\"):\n",
    "    bmi_values.append(float(value))\n",
    "#1st Quartile \n",
    "q1 = np.quantile(bmi_values, 0.25) \n",
    "#3rd Quartile \n",
    "q3 = np.quantile(bmi_values, 0.75) \n",
    "\n",
    "IQR = q3 - q1\n",
    "\n",
    "extreme_outlier = [q1 - 2 * IQR, q3 + 2 * IQR]\n",
    "print(extreme_outlier)"
   ]
  },
  {
   "cell_type": "markdown",
   "metadata": {},
   "source": [
    "Now that the extreme_outlier intervals for the `bmi` attribute has been calculated. The data that falls outside the interval can be filtered out."
   ]
  },
  {
   "cell_type": "code",
   "execution_count": 62,
   "metadata": {},
   "outputs": [
    {
     "name": "stdout",
     "output_type": "stream",
     "text": [
      "2 entries were filtered out!\n"
     ]
    }
   ],
   "source": [
    "filtered_insurance_dict = {}\n",
    "for key in insurance_dict:\n",
    "    bmi_value = float(insurance_dict[key][\"bmi\"])\n",
    "    if extreme_outlier[0] <= bmi_value <= extreme_outlier[1]:\n",
    "        filtered_insurance_dict[key] = insurance_dict[key]\n",
    "print(\"{removed} entries were filtered out!\".format(removed = str(len(insurance_dict)-len(filtered_insurance_dict))))"
   ]
  },
  {
   "cell_type": "code",
   "execution_count": null,
   "metadata": {},
   "outputs": [],
   "source": [
    "create_boxplot(\"bmi\")"
   ]
  },
  {
   "cell_type": "markdown",
   "metadata": {},
   "source": [
    "## Multiple Linear Regression"
   ]
  },
  {
   "cell_type": "code",
   "execution_count": null,
   "metadata": {},
   "outputs": [],
   "source": [
    "# Linear regression\n",
    "# Here, I should check the R-squared, etc...\n",
    "# Possibility of decision trees to interpolate an insurance cost. Then, I could do a comparison to the real.\n",
    "# From there, I could perform multiple statistical tests in order to get an overview of the accuracy of such modelling."
   ]
  }
 ],
 "metadata": {
  "kernelspec": {
   "display_name": "Python 3",
   "language": "python",
   "name": "python3"
  },
  "language_info": {
   "codemirror_mode": {
    "name": "ipython",
    "version": 3
   },
   "file_extension": ".py",
   "mimetype": "text/x-python",
   "name": "python",
   "nbconvert_exporter": "python",
   "pygments_lexer": "ipython3",
   "version": "3.8.8"
  }
 },
 "nbformat": 4,
 "nbformat_minor": 4
}
