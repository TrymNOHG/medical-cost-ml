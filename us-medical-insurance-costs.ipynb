{
 "cells": [
  {
   "cell_type": "markdown",
   "metadata": {},
   "source": [
    "# U.S. Medical Insurance Costs"
   ]
  },
  {
   "cell_type": "markdown",
   "metadata": {},
   "source": [
    "# Overview\n",
    "In this project, I will analyze the medical insurance data of over 50000 people. The question I want to answer is:..."
   ]
  },
  {
   "cell_type": "code",
   "execution_count": 1,
   "metadata": {},
   "outputs": [
    {
     "name": "stdout",
     "output_type": "stream",
     "text": [
      "{'age': '19', 'sex': 'female', 'bmi': '27.9', 'children': '0', 'smoker': 'yes', 'region': 'southwest', 'charges': '16884.924'}\n"
     ]
    }
   ],
   "source": [
    "import csv\n",
    "import json\n",
    "\n",
    "insurance_dict = {}\n",
    "with open(\"insurance.csv\", \"r\") as insurance_file:\n",
    "    insurance_csv = csv.DictReader(insurance_file)\n",
    "    index = 0\n",
    "    for person in insurance_csv:\n",
    "        insurance_dict[index] = person \n",
    "        index += 1\n",
    "\n",
    "# First person in the insurance dict:\n",
    "print(insurance_dict[0])"
   ]
  },
  {
   "cell_type": "code",
   "execution_count": 2,
   "metadata": {},
   "outputs": [],
   "source": [
    "from matplotlib import pyplot as plt\n",
    "import numpy as np"
   ]
  },
  {
   "cell_type": "code",
   "execution_count": 3,
   "metadata": {},
   "outputs": [],
   "source": [
    "def invalid_attribute_message(attribute:str):\n",
    "    \"\"\" This function provides an error message when an attribute is invalid\n",
    "    \"\"\"\n",
    "    print(str(attribute) + \" is not a valid attribute. Check for correct spelling.\")\n",
    "    print(\"The valid attributes are : \")\n",
    "    for key in insurance_dict[0].keys():\n",
    "            print(\"- \" + key)"
   ]
  },
  {
   "cell_type": "code",
   "execution_count": 4,
   "metadata": {},
   "outputs": [
    {
     "name": "stdout",
     "output_type": "stream",
     "text": [
      "Name is not a valid attribute. Check for correct spelling.\n",
      "The valid attributes are : \n",
      "- age\n",
      "- sex\n",
      "- bmi\n",
      "- children\n",
      "- smoker\n",
      "- region\n",
      "- charges\n"
     ]
    }
   ],
   "source": [
    "def get_list_of_attribute(attribute:str)-> list:\n",
    "    \"\"\" This function takes all the values associated with a given key (attribute) and appends them to a list.\n",
    "    \"\"\"\n",
    "    attr_list : list = []\n",
    "    try:\n",
    "        for value in insurance_dict.values():\n",
    "            attr_list.append(value[attribute.lower().strip()])\n",
    "        return attr_list\n",
    "    except:\n",
    "        invalid_attribute_message(attribute)\n",
    "# Example of invalid attribute\n",
    "get_list_of_attribute(\"Name\")"
   ]
  },
  {
   "cell_type": "code",
   "execution_count": 5,
   "metadata": {},
   "outputs": [
    {
     "name": "stdout",
     "output_type": "stream",
     "text": [
      "{'southwest': 325, 'southeast': 364, 'northwest': 325, 'northeast': 324}\n",
      "{'female': 662, 'male': 676}\n",
      "{'yes': 274, 'no': 1064}\n"
     ]
    }
   ],
   "source": [
    "def get_count_of_attribute(attribute:str)-> dict:\n",
    "    \"\"\" This function allows for the count of different attributes to be constructed as a dict.\n",
    "    \"\"\"\n",
    "    attribute_dict = {}\n",
    "    try:\n",
    "        for value in insurance_dict.values():\n",
    "            attribute_dict[value[attribute]] = attribute_dict.get(value[attribute], 0) + 1\n",
    "        return attribute_dict\n",
    "    except:\n",
    "        invalid_attribute_message(attribute)\n",
    "\n",
    "# Examples\n",
    "print(get_count_of_attribute(\"region\"))\n",
    "print(get_count_of_attribute(\"sex\"))\n",
    "print(get_count_of_attribute(\"smoker\"))"
   ]
  },
  {
   "cell_type": "markdown",
   "metadata": {},
   "source": [
    "# Understanding potential biases and weaknesses of the dataset\n",
    "When conducting analyses on a given dataset, it is essential to fully understand the scope of the data. Are there any factors that could **skew** the results?\n",
    "\n",
    "In order to tackle this issue, I will first get an intuitive understanding of the set through various figures and diagrams. Later on, I will examine the data using statistical techniques."
   ]
  },
  {
   "cell_type": "code",
   "execution_count": 51,
   "metadata": {},
   "outputs": [],
   "source": [
    "def attribute_piechart(attributes):\n",
    "    \n",
    "    attributes = [attributes] if type(attributes) == str else attributes\n",
    "    categories_of_attributes = []\n",
    "    categories_data = []\n",
    "    try:\n",
    "        for attribute in attributes:\n",
    "                categories_of_attributes.append(get_count_of_attribute(attribute.lower()).keys())\n",
    "                categories_data.append(get_count_of_attribute(attribute.lower()).values())\n",
    "    except:\n",
    "        return\n",
    "    # Create plot\n",
    "    fig, axs = plt.subplots(1, len(attributes), figsize = (9, 3), sharey=True)\n",
    "    for i in range(len(attributes)):\n",
    "        ax = axs[i] if len(attributes) > 1 else axs\n",
    "        ax.pie(categories_data[i], labels = categories_of_attributes[i])\n",
    "        ax.set_title(\"Distribution of data within \" + str(attributes[i]))\n",
    "    # Show plot\n",
    "    plt.show()"
   ]
  },
  {
   "cell_type": "code",
   "execution_count": 54,
   "metadata": {},
   "outputs": [
    {
     "data": {
      "image/png": "[encoded data removed]",
      "text/plain": [
       "<Figure size 648x216 with 2 Axes>"
      ]
     },
     "metadata": {},
     "output_type": "display_data"
    }
   ],
   "source": [
    "attributes = [\"region\", \"sex\"]\n",
    "attribute_piechart(attributes)"
   ]
  },
  {
   "cell_type": "code",
   "execution_count": 55,
   "metadata": {},
   "outputs": [
    {
     "data": {
      "image/png": "[encoded data removed]",
      "text/plain": [
       "<Figure size 648x216 with 1 Axes>"
      ]
     },
     "metadata": {},
     "output_type": "display_data"
    }
   ],
   "source": [
    "attribute_piechart(\"smoker\")"
   ]
  },
  {
   "cell_type": "code",
   "execution_count": null,
   "metadata": {},
   "outputs": [],
   "source": [
    "# Could create a scale in order to categorize the different insurance costs\n",
    "insurance_scale = {0 : 0,\n",
    "                  1 : 1000\n",
    "                  2 : 5000\n",
    "                  3 : 10000\n",
    "                  4 : 20000}"
   ]
  }
 ],
 "metadata": {
  "kernelspec": {
   "display_name": "Python 3",
   "language": "python",
   "name": "python3"
  },
  "language_info": {
   "codemirror_mode": {
    "name": "ipython",
    "version": 3
   },
   "file_extension": ".py",
   "mimetype": "text/x-python",
   "name": "python",
   "nbconvert_exporter": "python",
   "pygments_lexer": "ipython3",
   "version": "3.8.8"
  }
 },
 "nbformat": 4,
 "nbformat_minor": 4
}
